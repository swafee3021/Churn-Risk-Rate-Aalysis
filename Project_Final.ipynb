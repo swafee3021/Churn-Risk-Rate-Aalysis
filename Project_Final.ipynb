{
 "cells": [
  {
   "cell_type": "code",
   "execution_count": 1,
   "id": "48a2732e",
   "metadata": {},
   "outputs": [
    {
     "ename": "ModuleNotFoundError",
     "evalue": "No module named 'yellowbrick'",
     "output_type": "error",
     "traceback": [
      "\u001b[1;31m---------------------------------------------------------------------------\u001b[0m",
      "\u001b[1;31mModuleNotFoundError\u001b[0m                       Traceback (most recent call last)",
      "\u001b[1;32m~\\AppData\\Local\\Temp/ipykernel_2312/801784790.py\u001b[0m in \u001b[0;36m<module>\u001b[1;34m\u001b[0m\n\u001b[0;32m     22\u001b[0m \u001b[1;32mimport\u001b[0m \u001b[0mstatsmodels\u001b[0m\u001b[1;33m.\u001b[0m\u001b[0mapi\u001b[0m \u001b[1;32mas\u001b[0m \u001b[0msm\u001b[0m\u001b[1;33m\u001b[0m\u001b[1;33m\u001b[0m\u001b[0m\n\u001b[0;32m     23\u001b[0m \u001b[1;33m\u001b[0m\u001b[0m\n\u001b[1;32m---> 24\u001b[1;33m \u001b[1;32mfrom\u001b[0m \u001b[0myellowbrick\u001b[0m\u001b[1;33m.\u001b[0m\u001b[0mclassifier\u001b[0m \u001b[1;32mimport\u001b[0m \u001b[0mROCAUC\u001b[0m\u001b[1;33m\u001b[0m\u001b[1;33m\u001b[0m\u001b[0m\n\u001b[0m\u001b[0;32m     25\u001b[0m \u001b[1;32mfrom\u001b[0m \u001b[0msklearn\u001b[0m\u001b[1;33m.\u001b[0m\u001b[0mdecomposition\u001b[0m \u001b[1;32mimport\u001b[0m \u001b[0mPCA\u001b[0m\u001b[1;33m\u001b[0m\u001b[1;33m\u001b[0m\u001b[0m\n\u001b[0;32m     26\u001b[0m \u001b[1;32mfrom\u001b[0m \u001b[0msklearn\u001b[0m\u001b[1;33m.\u001b[0m\u001b[0mcluster\u001b[0m \u001b[1;32mimport\u001b[0m \u001b[0mKMeans\u001b[0m\u001b[1;33m\u001b[0m\u001b[1;33m\u001b[0m\u001b[0m\n",
      "\u001b[1;31mModuleNotFoundError\u001b[0m: No module named 'yellowbrick'"
     ]
    }
   ],
   "source": [
    "import pandas as pd\n",
    "import numpy as np\n",
    "import matplotlib.pyplot as plt\n",
    "import seaborn as sns\n",
    "import warnings\n",
    "warnings.filterwarnings('ignore')\n",
    "import statsmodels.api as sm\n",
    "from sklearn.linear_model import LogisticRegression\n",
    "from sklearn.metrics import classification_report, precision_score, recall_score, f1_score, roc_auc_score\n",
    "from sklearn.metrics import confusion_matrix, ConfusionMatrixDisplay, auc, multilabel_confusion_matrix\n",
    "from sklearn.metrics import roc_curve, precision_recall_curve, accuracy_score, cohen_kappa_score\n",
    "from sklearn.model_selection import train_test_split,GridSearchCV, cross_val_score, RandomizedSearchCV\n",
    "from sklearn.preprocessing import StandardScaler, MinMaxScaler, PowerTransformer\n",
    "from sklearn.preprocessing import LabelEncoder\n",
    "from imblearn.over_sampling import SMOTE\n",
    "from sklearn.tree import DecisionTreeClassifier\n",
    "from sklearn.ensemble import RandomForestClassifier, AdaBoostClassifier, GradientBoostingClassifier, StackingClassifier\n",
    "\n",
    "from statsmodels.formula.api import ols\n",
    "from statsmodels.stats.anova import anova_lm\n",
    "from scipy import stats\n",
    "import statsmodels.api as sm\n",
    "\n",
    "from yellowbrick.classifier import ROCAUC\n",
    "from sklearn.decomposition import PCA\n",
    "from sklearn.cluster import KMeans\n",
    "from sklearn.metrics import silhouette_score\n",
    "from statsmodels.formula.api import ols\n",
    "from statsmodels.stats.anova import anova_lm\n",
    "from sklearn.neighbors import KNeighborsClassifier\n",
    "from sklearn.naive_bayes import GaussianNB,MultinomialNB, CategoricalNB, BernoulliNB, ComplementNB\n",
    "from xgboost import XGBClassifier\n",
    "\n",
    "from statsmodels.stats.outliers_influence import variance_inflation_factor\n",
    "from sklearn import svm"
   ]
  },
  {
   "cell_type": "code",
   "execution_count": null,
   "id": "0e2a88d3",
   "metadata": {},
   "outputs": [],
   "source": [
    "df = pd.read_csv('train.csv')\n",
    "df.head(5)"
   ]
  },
  {
   "cell_type": "code",
   "execution_count": null,
   "id": "c77c4c90",
   "metadata": {},
   "outputs": [],
   "source": [
    "df.skew()"
   ]
  },
  {
   "cell_type": "code",
   "execution_count": null,
   "id": "1763aba7",
   "metadata": {},
   "outputs": [],
   "source": [
    "df.shape"
   ]
  },
  {
   "cell_type": "code",
   "execution_count": null,
   "id": "3103cd1c",
   "metadata": {},
   "outputs": [],
   "source": [
    "df.info()"
   ]
  },
  {
   "cell_type": "code",
   "execution_count": null,
   "id": "6097232f",
   "metadata": {},
   "outputs": [],
   "source": [
    "df.describe()"
   ]
  },
  {
   "cell_type": "markdown",
   "id": "6d5a7038",
   "metadata": {},
   "source": [
    "##### Checking for Missing values"
   ]
  },
  {
   "cell_type": "code",
   "execution_count": null,
   "id": "f8fc1830",
   "metadata": {},
   "outputs": [],
   "source": [
    "df['avg_frequency_login_days'].value_counts()"
   ]
  },
  {
   "cell_type": "code",
   "execution_count": null,
   "id": "90833663",
   "metadata": {},
   "outputs": [],
   "source": [
    "df[\"avg_frequency_login_days\"].replace({'Error': np.NaN}, inplace=True)"
   ]
  },
  {
   "cell_type": "code",
   "execution_count": null,
   "id": "038e374b",
   "metadata": {},
   "outputs": [],
   "source": [
    "df['avg_frequency_login_days'] = df['avg_frequency_login_days'].astype('float')"
   ]
  },
  {
   "cell_type": "code",
   "execution_count": null,
   "id": "9145a074",
   "metadata": {},
   "outputs": [],
   "source": [
    "df.isnull().sum() / len(df) * 100"
   ]
  },
  {
   "cell_type": "code",
   "execution_count": null,
   "id": "c2942f38",
   "metadata": {},
   "outputs": [],
   "source": [
    "df['region_category'].value_counts()"
   ]
  },
  {
   "cell_type": "code",
   "execution_count": null,
   "id": "21b54bbc",
   "metadata": {},
   "outputs": [],
   "source": [
    "#Since these variables involve personal information, it is not recommended to impute the values.\n",
    "df[\"region_category\"].fillna(\"Missing\", inplace=True)\n",
    "\n",
    "df[\"preferred_offer_types\"].fillna(\"Missing\", inplace=True)\n",
    "\n",
    "df[\"points_in_wallet\"].fillna(0, inplace=True)"
   ]
  },
  {
   "cell_type": "markdown",
   "id": "dd1bf5b8",
   "metadata": {},
   "source": [
    "Dropping In-significant variables"
   ]
  },
  {
   "cell_type": "markdown",
   "id": "304898a3",
   "metadata": {},
   "source": [
    "Looks like avg_freq_login_days(Represents the no. of times a customer has logged in to the website) variable is holding numeric datatype. Hence converted to float.\n",
    "\n",
    "ERROR value infers that the website was unable to register the avg_freq_login_days. It could be due to various factors like software glitches, etc. Also, the variable days since last login and average frequency login days holds redundancy in terms of their usage. Hence dropping the variable.\n",
    "\n",
    "Customer-id, Name, security_no are unique variables. \n",
    "referral_id is completely irrelavant to the dataset.\n",
    "Hence, dropping the above mentioned variables."
   ]
  },
  {
   "cell_type": "code",
   "execution_count": null,
   "id": "14ef9b9c",
   "metadata": {},
   "outputs": [],
   "source": [
    "df = df.drop(['customer_id','Name','security_no','referral_id','avg_frequency_login_days'],axis=1)\n",
    "df.info()"
   ]
  },
  {
   "cell_type": "code",
   "execution_count": null,
   "id": "53a9988f",
   "metadata": {},
   "outputs": [],
   "source": [
    "df.isnull().sum() / len(df) * 100"
   ]
  },
  {
   "cell_type": "code",
   "execution_count": null,
   "id": "e4d10e1e",
   "metadata": {},
   "outputs": [],
   "source": [
    "#There can be a third gender, hence we are not replacing the unknown\n",
    "df['gender'].value_counts()"
   ]
  },
  {
   "cell_type": "code",
   "execution_count": null,
   "id": "2425a707",
   "metadata": {},
   "outputs": [],
   "source": [
    "df['region_category'].value_counts()"
   ]
  },
  {
   "cell_type": "code",
   "execution_count": null,
   "id": "5a32b730",
   "metadata": {},
   "outputs": [],
   "source": [
    "# Changing the column 'joining_date' datatype as date\n",
    "df['joining_date']= pd.to_datetime(df['joining_date'], format=\"%Y-%m-%d\")"
   ]
  },
  {
   "cell_type": "code",
   "execution_count": null,
   "id": "47f7de98",
   "metadata": {},
   "outputs": [],
   "source": [
    "df['year']= pd.DatetimeIndex(df['joining_date']).year"
   ]
  },
  {
   "cell_type": "code",
   "execution_count": null,
   "id": "de4d1d7f",
   "metadata": {},
   "outputs": [],
   "source": [
    "df['joined_through_referral'].value_counts()"
   ]
  },
  {
   "cell_type": "code",
   "execution_count": null,
   "id": "c45f3638",
   "metadata": {},
   "outputs": [],
   "source": [
    "df[\"joined_through_referral\"].replace({'?': \"Missing\"}, inplace=True)"
   ]
  },
  {
   "cell_type": "code",
   "execution_count": null,
   "id": "f70493f8",
   "metadata": {},
   "outputs": [],
   "source": [
    "df['medium_of_operation'].value_counts()"
   ]
  },
  {
   "cell_type": "code",
   "execution_count": null,
   "id": "e2d255df",
   "metadata": {},
   "outputs": [],
   "source": [
    "df[\"medium_of_operation\"].replace({'?': \"Missing\"}, inplace=True)"
   ]
  },
  {
   "cell_type": "code",
   "execution_count": null,
   "id": "2bab95fc",
   "metadata": {},
   "outputs": [],
   "source": [
    "df['days_since_last_login'].value_counts()"
   ]
  },
  {
   "cell_type": "markdown",
   "id": "c9e60414",
   "metadata": {},
   "source": [
    "It looks like -999 is an 'Error',i.e., the website didn't populate the variable when the data was recorded. Hence replacing it with 31days as their value so that we can visualize how the data is spread out."
   ]
  },
  {
   "cell_type": "code",
   "execution_count": null,
   "id": "a6c172fb",
   "metadata": {},
   "outputs": [],
   "source": [
    "df[\"days_since_last_login\"].replace({-999: 31}, inplace=True)"
   ]
  },
  {
   "cell_type": "code",
   "execution_count": null,
   "id": "84f1b56b",
   "metadata": {},
   "outputs": [],
   "source": [
    "df[df['days_since_last_login'] == -999]"
   ]
  },
  {
   "cell_type": "code",
   "execution_count": null,
   "id": "060707a1",
   "metadata": {},
   "outputs": [],
   "source": [
    "df.info()"
   ]
  },
  {
   "cell_type": "code",
   "execution_count": null,
   "id": "2b0ce37b",
   "metadata": {},
   "outputs": [],
   "source": [
    "df.isnull().sum() "
   ]
  },
  {
   "cell_type": "code",
   "execution_count": null,
   "id": "492230eb",
   "metadata": {},
   "outputs": [],
   "source": [
    "df['churn_risk_score'].value_counts()"
   ]
  },
  {
   "cell_type": "markdown",
   "id": "e872625d",
   "metadata": {},
   "source": [
    "### Outlier Check"
   ]
  },
  {
   "cell_type": "code",
   "execution_count": null,
   "id": "59e18485",
   "metadata": {},
   "outputs": [],
   "source": [
    "df.skew()"
   ]
  },
  {
   "cell_type": "code",
   "execution_count": null,
   "id": "a8ffffa8",
   "metadata": {},
   "outputs": [],
   "source": [
    "df['churn_risk_score'].value_counts()"
   ]
  },
  {
   "cell_type": "code",
   "execution_count": null,
   "id": "ec9b1f0b",
   "metadata": {},
   "outputs": [],
   "source": [
    "df.isnull().sum()"
   ]
  },
  {
   "cell_type": "markdown",
   "id": "f1f08922",
   "metadata": {},
   "source": [
    "### Analysis"
   ]
  },
  {
   "cell_type": "markdown",
   "id": "39b806ae",
   "metadata": {},
   "source": [
    "#### Univariate Analysis"
   ]
  },
  {
   "cell_type": "code",
   "execution_count": null,
   "id": "9800c2c0",
   "metadata": {},
   "outputs": [],
   "source": [
    "#Plot1\n",
    "plt.figure(figsize=(16,6))\n",
    "sns.countplot(x=\"age\", data=df)"
   ]
  },
  {
   "cell_type": "markdown",
   "id": "073cd323",
   "metadata": {},
   "source": [
    "The plot shows that the Age is widely spread from 10-64 with almost equal weightage."
   ]
  },
  {
   "cell_type": "code",
   "execution_count": null,
   "id": "3dc7b94c",
   "metadata": {},
   "outputs": [],
   "source": [
    "#plot2\n",
    "plt.figure(figsize=(6,6))\n",
    "ax = sns.countplot(x=\"gender\", data=df, palette=\"Accent\")\n",
    "total = len(df['gender'])\n",
    "patches = ax.patches\n",
    "for p in ax.patches:\n",
    "        ax.annotate('{:.2f}%'.format(p.get_height()/total * 100), (p.get_x()+0.1, p.get_height()+50))\n",
    "plt.show()"
   ]
  },
  {
   "cell_type": "markdown",
   "id": "09f23510",
   "metadata": {},
   "source": [
    "The Gender is almost equally spread in the data except the unknown subclass"
   ]
  },
  {
   "cell_type": "code",
   "execution_count": null,
   "id": "d8191cc7",
   "metadata": {},
   "outputs": [],
   "source": [
    "#plot3\n",
    "plt.figure(figsize=(6,6))\n",
    "ax = sns.countplot(x=\"region_category\", data=df, palette=\"Set1_r\")\n",
    "total = len(df['region_category'])\n",
    "patches = ax.patches\n",
    "for p in ax.patches:\n",
    "        ax.annotate('{:.2f}%'.format(p.get_height()/total * 100), (p.get_x()+0.1, p.get_height()+50))\n",
    "plt.show()"
   ]
  },
  {
   "cell_type": "markdown",
   "id": "f5bdfc47",
   "metadata": {},
   "source": [
    "The region category Town is having the maximum counts. And the region Village is having the minimum counts. \n",
    "The plot shows that the town population is attracted to this particular e-commerce site."
   ]
  },
  {
   "cell_type": "code",
   "execution_count": null,
   "id": "cc3fc65a",
   "metadata": {},
   "outputs": [],
   "source": [
    "#plot4\n",
    "plt.figure(figsize=(10,6))\n",
    "ax = sns.countplot(y=df['membership_category'], orient='v', palette=\"PiYG_r\")\n",
    "total = len(df['membership_category'])\n",
    "for p in ax.patches:\n",
    "        percentage = '{:.1f}%'.format(100 * p.get_width()/total)\n",
    "        x = p.get_x() + p.get_width() + 0.02\n",
    "        y = p.get_y() + p.get_height()/2\n",
    "        ax.annotate(percentage, (x, y))\n",
    "\n",
    "plt.show()"
   ]
  },
  {
   "cell_type": "markdown",
   "id": "59619716",
   "metadata": {},
   "source": [
    "The plot shows that the Basic Membership and No Membership are having the highest count. With the platinum membership being the lowest in count"
   ]
  },
  {
   "cell_type": "code",
   "execution_count": null,
   "id": "b498a968",
   "metadata": {},
   "outputs": [],
   "source": [
    "#plot5\n",
    "plt.figure(figsize=(10,10))\n",
    "ax = sns.countplot(x=\"preferred_offer_types\", data=df, palette=\"mako\")\n",
    "total = len(df['preferred_offer_types'])\n",
    "patches = ax.patches\n",
    "for p in ax.patches:\n",
    "        ax.annotate('{:.2f}%'.format(p.get_height()/total * 100), (p.get_x()+0.1, p.get_height()+50))\n",
    "plt.show()"
   ]
  },
  {
   "cell_type": "markdown",
   "id": "59f31a87",
   "metadata": {},
   "source": [
    "The preferred_offer_types is almost equally spread in the data except the missing values.We cannot impute missing values as this the variable is related to personal information."
   ]
  },
  {
   "cell_type": "code",
   "execution_count": null,
   "id": "dd305ce9",
   "metadata": {},
   "outputs": [],
   "source": [
    "#plot6\n",
    "plt.figure(figsize=(10,10))\n",
    "ax = sns.countplot(x=\"medium_of_operation\", data=df, palette=\"rocket\")\n",
    "total = len(df['medium_of_operation'])\n",
    "patches = ax.patches\n",
    "for p in ax.patches:\n",
    "        ax.annotate('{:.2f}%'.format(p.get_height()/total * 100), (p.get_x()+0.1, p.get_height()+50))\n",
    "plt.show()"
   ]
  },
  {
   "cell_type": "markdown",
   "id": "edc7af06",
   "metadata": {},
   "source": [
    "From the Barplot, we can infer that both Desktop and Smartphone is spread equally. We can also infer that only 10% of people using both Smartphone and Desktop."
   ]
  },
  {
   "cell_type": "code",
   "execution_count": null,
   "id": "62bc386c",
   "metadata": {},
   "outputs": [],
   "source": [
    "#plot7\n",
    "plt.figure(figsize=(10,10))\n",
    "ax = sns.countplot(x=\"internet_option\", data=df, palette=\"flare\")\n",
    "total = len(df['internet_option'])\n",
    "patches = ax.patches\n",
    "for p in ax.patches:\n",
    "        ax.annotate('{:.2f}%'.format(p.get_height()/total * 100), (p.get_x()+0.1, p.get_height()+50))\n",
    "plt.show()"
   ]
  },
  {
   "cell_type": "markdown",
   "id": "38bd8078",
   "metadata": {},
   "source": [
    "The Internet option is showing equal weightage to all the subclasses being Wi-Fi, Mobile, Fiber_Optic."
   ]
  },
  {
   "cell_type": "code",
   "execution_count": null,
   "id": "fe13065b",
   "metadata": {},
   "outputs": [],
   "source": [
    "#plot8\n",
    "plt.figure(figsize=(15,15))\n",
    "ax = sns.countplot(x=\"days_since_last_login\", data=df, palette=\"crest\")\n",
    "total = len(df['days_since_last_login'])\n",
    "patches = ax.patches\n",
    "for p in ax.patches:\n",
    "        ax.annotate('{:.2f}%'.format(p.get_height()/total * 100), (p.get_x()+0.1, p.get_height()+50))\n",
    "plt.show()"
   ]
  },
  {
   "cell_type": "markdown",
   "id": "291b8c28",
   "metadata": {},
   "source": [
    "The days_since_last_login variable is holding the number of days since the customer has logged in. The plot shows that the average lies around 13.The maximum days since logged-in is 31. And the minimum is 1."
   ]
  },
  {
   "cell_type": "code",
   "execution_count": null,
   "id": "9a2d9a2f",
   "metadata": {},
   "outputs": [],
   "source": [
    "#plot9\n",
    "df_cols = df[[\"offer_application_preference\",'joined_through_referral','used_special_discount','past_complaint']]\n",
    "fig, ax = plt.subplots(nrows=2, ncols=2,figsize=(20,10))\n",
    "for var, subplot in zip(df_cols.columns[:], ax.flatten()):\n",
    "    ax = sns.countplot(x=df_cols[var], data=df, ax=subplot, palette=\"cubehelix\")\n",
    "    total = len(df_cols[var])\n",
    "    patches = ax.patches\n",
    "    for p in ax.patches:\n",
    "        ax.annotate('{:.2f}%'.format(p.get_height()/total * 100), (p.get_x()+0.1, p.get_height()+50))\n",
    "    \n",
    "plt.tight_layout()\n",
    "plt.show()"
   ]
  },
  {
   "cell_type": "markdown",
   "id": "a18d60e2",
   "metadata": {},
   "source": [
    "Inference for the above barplots 'Yes' or 'No' varibales: \n",
    "The highest 'Yes' is given to 'offer_application_preference'and the highest 'No' is given to 'past_complaint'.\n",
    "\n",
    "'offer_application_preference' and 'used_special_discount' variable are midly disturbed in the data.\n",
    "\n",
    "'joined_through_referral' and 'past_complaint' variables are equally distributed."
   ]
  },
  {
   "cell_type": "code",
   "execution_count": null,
   "id": "ab060221",
   "metadata": {},
   "outputs": [],
   "source": [
    "#plot10\n",
    "plt.figure(figsize=(10,10))\n",
    "ax = sns.countplot(y=df['feedback'], orient='v', palette=\"Set3\")\n",
    "total = len(df['feedback'])\n",
    "for p in ax.patches:\n",
    "        percentage = '{:.1f}%'.format(100 * p.get_width()/total)\n",
    "        x = p.get_x() + p.get_width() + 0.02\n",
    "        y = p.get_y() + p.get_height()/2\n",
    "        ax.annotate(percentage, (x, y))\n",
    "\n",
    "plt.show()"
   ]
  },
  {
   "cell_type": "markdown",
   "id": "558958dc",
   "metadata": {},
   "source": [
    "Maximum number of negative feedback for the variable is poor product quality and maximum number of positive feedback for the variable is user friendly website and reasonable price."
   ]
  },
  {
   "cell_type": "code",
   "execution_count": null,
   "id": "d4626b24",
   "metadata": {},
   "outputs": [],
   "source": [
    "#plot11\n",
    "plt.figure(figsize=(10,10))\n",
    "ax = sns.countplot(y=df['complaint_status'], orient='v', palette=\"Set2\")\n",
    "total = len(df['complaint_status'])\n",
    "for p in ax.patches:\n",
    "        percentage = '{:.1f}%'.format(100 * p.get_width()/total)\n",
    "        x = p.get_x() + p.get_width() + 0.02\n",
    "        y = p.get_y() + p.get_height()/2\n",
    "        ax.annotate(percentage, (x, y))\n",
    "\n",
    "plt.show()"
   ]
  },
  {
   "cell_type": "code",
   "execution_count": null,
   "id": "21ed18e3",
   "metadata": {},
   "outputs": [],
   "source": []
  },
  {
   "cell_type": "markdown",
   "id": "01982bff",
   "metadata": {},
   "source": [
    "The plot shows that the complaint status' subclasses holds almost equal weights except 'Not Applicable'."
   ]
  },
  {
   "cell_type": "markdown",
   "id": "29b0a026",
   "metadata": {},
   "source": [
    "#### Bi-Variate Analysis"
   ]
  },
  {
   "cell_type": "code",
   "execution_count": null,
   "id": "988d7df0",
   "metadata": {},
   "outputs": [],
   "source": [
    "#plot13\n",
    "fig, ax = plt.subplots(nrows=3, ncols=2,figsize=(20,10))\n",
    "l1 = df['churn_risk_score'].value_counts().keys().tolist()\n",
    "j=['orchid','lightgreen','lightblue','pink','tan','green','red']\n",
    "i = 0\n",
    "for var, subplot in zip(df.columns[:], ax.flatten()):\n",
    "        df_1 = df[df['churn_risk_score'] == l1[i]]\n",
    "        subplot.set_title(\"churn risk score = {}\". format(l1[i]))\n",
    "        sns.histplot(x=df_1['avg_transaction_value'], ax=subplot,color=j[i])\n",
    "        i += 1\n",
    "plt.tight_layout()\n",
    "plt.show()"
   ]
  },
  {
   "cell_type": "markdown",
   "id": "b5bf9374",
   "metadata": {},
   "source": [
    "The customers who are in churn risk score 1 have the average transaction total range is  100000 and customers has the maximum transactions around 80000 to 90000.\n",
    "\n",
    "The customers who are in churn risk score 2 have the average transaction total range is  100000 and customers has the maximum transactions around 90000.\n",
    "\n",
    "The customers who are in churn risk score 3 have the average transaction total range is 50000 and customers has the maximum transactions around 30000.\n",
    "\n",
    "The customers who are in churn risk score 4 have the average transaction total range is  50000 and customers has the maximum transactions around 30000 to 45000.\n",
    "\n",
    "The customers who are in churn risk score 5 have the average transaction total range is  50000 and customers has the maximum transactions around 20000.\n",
    "\n",
    "The customers who are in churn risk score -1 have the average transaction total range is 100000, customers has the maximum transactions till 40000 and customers has the minimum transactions from 60000 to 100000 .\n"
   ]
  },
  {
   "cell_type": "code",
   "execution_count": null,
   "id": "05294ac4",
   "metadata": {},
   "outputs": [],
   "source": [
    "#plot14\n",
    "fig, ax = plt.subplots(nrows=3, ncols=2,figsize=(20,10))\n",
    "l1 = df['churn_risk_score'].value_counts().keys().tolist()\n",
    "j=['orchid','lightgreen','lightblue','pink','tan','green','red']\n",
    "i = 0\n",
    "for var, subplot in zip(df.columns[:], ax.flatten()):\n",
    "        df_1 = df[df['churn_risk_score'] == l1[i]]\n",
    "        subplot.set_title(\"churn risk score = {}\". format(l1[i]))\n",
    "        sns.histplot(x=df_1['avg_time_spent'], ax=subplot,color=j[i])\n",
    "        i += 1\n",
    "plt.tight_layout()\n",
    "plt.show()"
   ]
  },
  {
   "cell_type": "markdown",
   "id": "d0858599",
   "metadata": {},
   "source": [
    "We are able to infer that the spread is almost equal for all the 'churn_risk_score' with respect to the 'avg_time_spent'\n",
    "\n",
    "From all the plots, we could see that the highest count of people 'avg_time_spent' is 0 - 100\n",
    "\n",
    "There are few negative values in the plots indicating that people may totally forgot about the website or didnt use for a very long time.\n",
    "\n",
    "With respective to 'churn_risk_score' 1 and 2 the distribution is similar with respect to counts, and with 'churn_risk_score' 3 to 5 the distribution is similar with respect to counts in 'avg_time_spent'"
   ]
  },
  {
   "cell_type": "code",
   "execution_count": null,
   "id": "35432460",
   "metadata": {},
   "outputs": [],
   "source": [
    "#plot16\n",
    "sns.countplot(x=df['joined_through_referral'],hue=df['churn_risk_score'])"
   ]
  },
  {
   "cell_type": "markdown",
   "id": "7ba8bcb0",
   "metadata": {},
   "source": [
    "From the Multiple barplot, Count of 'Yes' and \"No' in the variable 'joined_through_referral' are more likely to get equal distribution of around 3 to 5 'churn_risk_score'."
   ]
  },
  {
   "cell_type": "code",
   "execution_count": null,
   "id": "d135ac2f",
   "metadata": {},
   "outputs": [],
   "source": [
    "#plot17\n",
    "plt.figure(figsize=(10,10))\n",
    "sns.countplot(x=df['preferred_offer_types'],hue=df['churn_risk_score'])"
   ]
  },
  {
   "cell_type": "markdown",
   "id": "3f4677cb",
   "metadata": {},
   "source": [
    "The maximum customers in the churn risk score 3 mostly preferred when there is no offers.\n",
    "\n",
    "The minimum customers in the churn risk score 2 mostly preferred when there is no offers.\n",
    "\n",
    "The maximum customers in the churn risk score 3 mostly preferred when there is credit/debit card offers.\n",
    "\n",
    "The minimum customers in the churn risk score 1 mostly preferred when there is credit/debit card offers.\n",
    "\n",
    "The maximum customers in the churn risk score 3 mostly preferred when there is Gift vouchers/coupons.\n",
    "\n",
    "The minimum customers in the churn risk score 2 mostly preferred when there is Gift vouchers/coupons."
   ]
  },
  {
   "cell_type": "code",
   "execution_count": null,
   "id": "4cd9e0b7",
   "metadata": {},
   "outputs": [],
   "source": [
    "#plot18\n",
    "plt.figure(figsize=(10,10))\n",
    "sns.countplot(x=df['medium_of_operation'],hue=df['churn_risk_score'])"
   ]
  },
  {
   "cell_type": "markdown",
   "id": "b752149f",
   "metadata": {},
   "source": [
    "From the Multiple barplot we can infer that, people using only desktop and smartphone only are not likely to comeback to the website. Because they have the similary distribution in the 'churn_risk_score'"
   ]
  },
  {
   "cell_type": "code",
   "execution_count": null,
   "id": "21de8539",
   "metadata": {},
   "outputs": [],
   "source": [
    "#plot19\n",
    "plt.figure(figsize=(10,10))\n",
    "sns.countplot(x=df['internet_option'],hue=df['churn_risk_score'])"
   ]
  },
  {
   "cell_type": "markdown",
   "id": "ac7c0950",
   "metadata": {},
   "source": [
    "The maximum customers used wifi or mobile data internet option for visiting the website and the minimum customer used fibre optic or wifi for visiting the website."
   ]
  },
  {
   "cell_type": "code",
   "execution_count": null,
   "id": "b72486a6",
   "metadata": {},
   "outputs": [],
   "source": [
    "#plot20\n",
    "sns.countplot(hue=df['gender'],x=df['churn_risk_score'])"
   ]
  },
  {
   "cell_type": "markdown",
   "id": "02a63c04",
   "metadata": {},
   "source": [
    "We are able to infer that the count is almost equal for all the churn scores with respect to the gender except for the unknown"
   ]
  },
  {
   "cell_type": "code",
   "execution_count": null,
   "id": "8e92118d",
   "metadata": {},
   "outputs": [],
   "source": [
    "#plot21\n",
    "sns.countplot(hue=df['region_category'],x=df['churn_risk_score'])"
   ]
  },
  {
   "cell_type": "markdown",
   "id": "993c606d",
   "metadata": {},
   "source": [
    "The Town subclass is showing higher churn risk score when compared with other regions"
   ]
  },
  {
   "cell_type": "code",
   "execution_count": null,
   "id": "76dbc9c8",
   "metadata": {},
   "outputs": [],
   "source": [
    "#plot22\n",
    "plt.figure(figsize=(12,6))\n",
    "sns.countplot(hue=df['membership_category'],x=df['churn_risk_score'])\n",
    "plt.legend(loc='upper left')"
   ]
  },
  {
   "cell_type": "markdown",
   "id": "9cbdacae",
   "metadata": {},
   "source": [
    "The customers with no membership and basic membership are not likely\n",
    "comeback to visit the website where as customers with premium\n",
    "membership have a chance of coming back to the e-commerce site."
   ]
  },
  {
   "cell_type": "code",
   "execution_count": null,
   "id": "07f1c830",
   "metadata": {},
   "outputs": [],
   "source": [
    "#plot23\n",
    "plt.figure(figsize=(12,6))\n",
    "sns.boxenplot(y=df['days_since_last_login'],x=df['churn_risk_score'])"
   ]
  },
  {
   "cell_type": "markdown",
   "id": "ca22cba5",
   "metadata": {},
   "source": [
    "The customers who are visiting the website with no membership and basic membership are not\n",
    "likely comeback to visit the website where as customers with premium membership has a chance of\n",
    "coming to the website again."
   ]
  },
  {
   "cell_type": "code",
   "execution_count": null,
   "id": "e06dbee0",
   "metadata": {},
   "outputs": [],
   "source": [
    "#plot24\n",
    "plt.figure(figsize=(12,6))\n",
    "sns.boxplot(y=df['avg_time_spent'],x=df['churn_risk_score'])"
   ]
  },
  {
   "cell_type": "markdown",
   "id": "f9da2b86",
   "metadata": {},
   "source": [
    "From the above boxen plot, we can clearly see that there is outliers between average time spent\n",
    "and churn risk score."
   ]
  },
  {
   "cell_type": "code",
   "execution_count": null,
   "id": "28fd6d11",
   "metadata": {},
   "outputs": [],
   "source": [
    "#plot25\n",
    "plt.figure(figsize=(12,6))\n",
    "sns.boxenplot(y=df['avg_transaction_value'],x=df['churn_risk_score'])"
   ]
  },
  {
   "cell_type": "markdown",
   "id": "6babd5bb",
   "metadata": {},
   "source": [
    "From the above boxen plot,we can clearly see that there is no outliers between average\n",
    "transaction value and churn risk score."
   ]
  },
  {
   "cell_type": "code",
   "execution_count": null,
   "id": "5a063b0d",
   "metadata": {},
   "outputs": [],
   "source": [
    "#plot26\n",
    "plt.figure(figsize=(12,6))\n",
    "sns.violinplot(y=df['points_in_wallet'],x=df['churn_risk_score'])"
   ]
  },
  {
   "cell_type": "markdown",
   "id": "d006adc4",
   "metadata": {},
   "source": [
    "We can infer that the spread is large value of points in wallet with values between 500-1000 all churn risk scores.\n",
    "And the points in wallet is at its least for churn risk score 4 and 5."
   ]
  },
  {
   "cell_type": "code",
   "execution_count": null,
   "id": "3d59884f",
   "metadata": {},
   "outputs": [],
   "source": [
    "df.info()"
   ]
  },
  {
   "cell_type": "code",
   "execution_count": null,
   "id": "5fa6d63f",
   "metadata": {},
   "outputs": [],
   "source": [
    "#plot27\n",
    "plt.figure(figsize=(12,6))\n",
    "sns.countplot(hue=df['used_special_discount'],x=df['churn_risk_score'])"
   ]
  },
  {
   "cell_type": "markdown",
   "id": "67790a72",
   "metadata": {},
   "source": [
    "From the above countplot we can clearly understand when there is special discounts maximum\n",
    "customers visited the website and used the discounts."
   ]
  },
  {
   "cell_type": "code",
   "execution_count": null,
   "id": "d03b88c1",
   "metadata": {},
   "outputs": [],
   "source": [
    "df.info()"
   ]
  },
  {
   "cell_type": "code",
   "execution_count": null,
   "id": "a3fd05a0",
   "metadata": {},
   "outputs": [],
   "source": [
    "#plot28\n",
    "plt.figure(figsize=(12,6))\n",
    "sns.countplot(hue=df['offer_application_preference'],x=df['churn_risk_score'])"
   ]
  },
  {
   "cell_type": "markdown",
   "id": "04b36491",
   "metadata": {},
   "source": [
    "From the multiple barplot we can infer that 'offer_application_preference' of 'Yes' and 'No' has been equally distributed among the 'churn_risk_score' of 3-5\n"
   ]
  },
  {
   "cell_type": "code",
   "execution_count": null,
   "id": "feca8c0b",
   "metadata": {},
   "outputs": [],
   "source": [
    "#plot29\n",
    "plt.figure(figsize=(18,10))\n",
    "ax = sns.countplot(x=df['past_complaint'],hue=df['churn_risk_score'])\n",
    "\n",
    "total = len(df['past_complaint'])\n",
    "patches = ax.patches\n",
    "for p in ax.patches:\n",
    "        ax.annotate('{:.2f}%'.format(p.get_height()/total * 100), (p.get_x()+0.01, p.get_height()+50))\n",
    "plt.show()"
   ]
  },
  {
   "cell_type": "markdown",
   "id": "810d6f12",
   "metadata": {},
   "source": [
    "The 'past_complaint' count status of 'Yes' and 'No' is equally disturbed in the 'churn_risk_score' from the range of 3-5, which infers whether the person has past complaint or not. Most people are likely not to comeback to the website"
   ]
  },
  {
   "cell_type": "markdown",
   "id": "4a89c1e4",
   "metadata": {},
   "source": [
    "The past complaint influnce the churn risk rate. Although it doesnt show a great difference in term of its subcategories "
   ]
  },
  {
   "cell_type": "code",
   "execution_count": null,
   "id": "dd4b8fd7",
   "metadata": {},
   "outputs": [],
   "source": [
    "#plot30\n",
    "plt.figure(figsize=(24,10))\n",
    "ax = sns.countplot(x=df['complaint_status'],hue=df['churn_risk_score'],palette=\"viridis\")\n",
    "\n",
    "total = len(df['complaint_status'])\n",
    "patches = ax.patches\n",
    "for p in ax.patches:\n",
    "        ax.annotate('{:.2f}%'.format(p.get_height()/total * 100), (p.get_x()+0.01, p.get_height()+50))\n",
    "plt.show()"
   ]
  },
  {
   "cell_type": "markdown",
   "id": "b784d456",
   "metadata": {},
   "source": [
    "The 'Not-Applicable' count status is extremely high in high 'churn_risk_score' comparing with the other category counts."
   ]
  },
  {
   "cell_type": "markdown",
   "id": "8d2ba938",
   "metadata": {},
   "source": [
    "The Not-Applicable count status is extremely high in high risk churn scores."
   ]
  },
  {
   "cell_type": "code",
   "execution_count": null,
   "id": "d8929c12",
   "metadata": {},
   "outputs": [],
   "source": [
    "df['churn_risk_score'].value_counts()"
   ]
  },
  {
   "cell_type": "code",
   "execution_count": null,
   "id": "5e75e4ec",
   "metadata": {},
   "outputs": [],
   "source": [
    "pd.crosstab(df['feedback'], df['churn_risk_score'])"
   ]
  },
  {
   "cell_type": "code",
   "execution_count": null,
   "id": "e43be095",
   "metadata": {},
   "outputs": [],
   "source": [
    "pd.crosstab(df['complaint_status'], df['churn_risk_score'])"
   ]
  },
  {
   "cell_type": "code",
   "execution_count": null,
   "id": "db149bda",
   "metadata": {},
   "outputs": [],
   "source": [
    "#The Churn risk score holding -1 value\n",
    "df_1['feedback'].value_counts(normalize=True) * 100"
   ]
  },
  {
   "cell_type": "markdown",
   "id": "120cdfaa",
   "metadata": {},
   "source": [
    "From the Graph and Cross tab, we can infer that the negative feedback holds a major portion of our dataset.\n",
    "Also, the following 5 feedback categories influence the churn risk rate at a higher level.\n",
    "    1.Poor Website\n",
    "    2.No reason specified\n",
    "    3.Poor Product Quality\n",
    "    4.Poor Customer Service\n",
    "    5.Too many ads\n",
    "    \n",
    "Hence doing proportion imputation for the churn risk score : -1."
   ]
  },
  {
   "cell_type": "code",
   "execution_count": null,
   "id": "0b76a895",
   "metadata": {},
   "outputs": [],
   "source": [
    "#plot31\n",
    "sns.countplot(df['churn_risk_score'])"
   ]
  },
  {
   "cell_type": "code",
   "execution_count": null,
   "id": "6aba455d",
   "metadata": {},
   "outputs": [],
   "source": [
    "df['feedback'].value_counts()"
   ]
  },
  {
   "cell_type": "code",
   "execution_count": null,
   "id": "b37108b0",
   "metadata": {},
   "outputs": [],
   "source": [
    "plt.figure(figsize=(30,30))\n",
    "g = sns.catplot(\n",
    "        x='avg_transaction_value', \n",
    "        y='feedback', \n",
    "        data=df,\n",
    "        palette='bright',\n",
    "        height=7, aspect=1.3,\n",
    "        kind='bar',\n",
    "        hue='membership_category', \n",
    "        col ='churn_risk_score',\n",
    "        col_wrap=2)\n",
    "#g.set_titles(\n",
    "#    'Title: {col_name}');"
   ]
  },
  {
   "cell_type": "code",
   "execution_count": null,
   "id": "8879c15a",
   "metadata": {},
   "outputs": [],
   "source": [
    "df['membership_category'].value_counts()"
   ]
  },
  {
   "cell_type": "markdown",
   "id": "51f411b5",
   "metadata": {},
   "source": [
    "def feed(x, y,z):\n",
    "    l1 = ['Poor Product Quality','Too many ads','Poor Website','Poor Customer Service']\n",
    "    l2 = ['Platinum Membership','Premium Membership','Gold Membership','Silver Membership']\n",
    "    if y == -1:\n",
    "        if x in l1:\n",
    "            if z in l2:\n",
    "                return 3\n",
    "            else:\n",
    "                return 5\n",
    "        else:\n",
    "            return 1\n",
    "    else:\n",
    "        return y\n",
    "df[\"churn_risk_score\"] = df.apply(lambda x: feed(x['feedback'],x['churn_risk_score'],x['membership_category']), axis = 1)"
   ]
  },
  {
   "cell_type": "code",
   "execution_count": null,
   "id": "786c9a38",
   "metadata": {},
   "outputs": [],
   "source": [
    "df[df['churn_risk_score'] == -1]"
   ]
  },
  {
   "cell_type": "code",
   "execution_count": null,
   "id": "0ba29d7e",
   "metadata": {},
   "outputs": [],
   "source": [
    "#plot32\n",
    "sns.countplot(df['churn_risk_score'])"
   ]
  },
  {
   "cell_type": "markdown",
   "id": "cd582c0c",
   "metadata": {},
   "source": [
    "Bucketising the churn risk score"
   ]
  },
  {
   "cell_type": "code",
   "execution_count": null,
   "id": "73784045",
   "metadata": {},
   "outputs": [],
   "source": [
    "def bucket(x):\n",
    "    if (x == 1) | (x == 2) | (x==-1):\n",
    "        return 1\n",
    "    elif (x == 3):\n",
    "        return 2\n",
    "    else:\n",
    "        return 3\n",
    "df[\"churn_risk_score\"] = df.apply(lambda x: bucket(x['churn_risk_score']), axis = 1)"
   ]
  },
  {
   "cell_type": "code",
   "execution_count": null,
   "id": "0ff8dd4d",
   "metadata": {},
   "outputs": [],
   "source": [
    "#plot33\n",
    "sns.countplot(df['churn_risk_score'])"
   ]
  },
  {
   "cell_type": "code",
   "execution_count": null,
   "id": "a1b536a2",
   "metadata": {},
   "outputs": [],
   "source": [
    "df['churn_risk_score'].value_counts(normalize=True) * 100"
   ]
  },
  {
   "cell_type": "code",
   "execution_count": null,
   "id": "a91f597b",
   "metadata": {},
   "outputs": [],
   "source": [
    "df['churn_risk_score'] = df['churn_risk_score'].astype('object')"
   ]
  },
  {
   "cell_type": "markdown",
   "id": "02054c76",
   "metadata": {},
   "source": [
    "#### Multi-Variate Analysis"
   ]
  },
  {
   "cell_type": "code",
   "execution_count": null,
   "id": "93362d55",
   "metadata": {},
   "outputs": [],
   "source": [
    "df.info()"
   ]
  },
  {
   "cell_type": "code",
   "execution_count": null,
   "id": "44a24056",
   "metadata": {},
   "outputs": [],
   "source": [
    "pd.crosstab(df['feedback'], df['membership_category'], df['churn_risk_score'], aggfunc='count')"
   ]
  },
  {
   "cell_type": "code",
   "execution_count": null,
   "id": "b057c770",
   "metadata": {},
   "outputs": [],
   "source": [
    "plt.figure(figsize=(20,20))\n",
    "sns.barplot(data=df, y='feedback', x='churn_risk_score', hue='membership_category')"
   ]
  },
  {
   "cell_type": "markdown",
   "id": "a92d8679",
   "metadata": {},
   "source": [
    "The churn risk score 1 class with positive feedback have Platinum, Premium, Gold and silver membership.\n",
    "The churn risk score 2 ad 3 class with negative feedback have some platinum, premium membership and many basic membership and no membership"
   ]
  },
  {
   "cell_type": "code",
   "execution_count": null,
   "id": "198005e7",
   "metadata": {},
   "outputs": [],
   "source": [
    "#plot15\n",
    "plt.figure(figsize=(20,20))\n",
    "sns.pairplot(df, hue='churn_risk_score')"
   ]
  },
  {
   "cell_type": "markdown",
   "id": "3ba11368",
   "metadata": {},
   "source": [
    "The average transaction value is holding maximum range for churn risk score 1 irrespective of the age, days_since_last_login, avg_time_Spent, points_in_wallet. And the values are low for churn risk score 2,3.\n",
    "We are able to see the seperation of clusters between 1 and 2,3 after bucketising.\n",
    "The points_in_wallet shows the dominance of cluster1 for points above 500, whereas cluster 3 is showing its dominance for points below 500."
   ]
  },
  {
   "cell_type": "code",
   "execution_count": null,
   "id": "a7c63105",
   "metadata": {},
   "outputs": [],
   "source": [
    "#plot34\n",
    "plt.figure(figsize=(12,10))\n",
    "sns.scatterplot(df['age'],df['avg_transaction_value'], hue=df['churn_risk_score'])"
   ]
  },
  {
   "cell_type": "markdown",
   "id": "65823847",
   "metadata": {},
   "source": [
    "The average transaction value is holding maximum range for churn risk score 1 irrespective of the age, and the values are low for churn risk score 2,3."
   ]
  },
  {
   "cell_type": "code",
   "execution_count": null,
   "id": "293a8f94",
   "metadata": {},
   "outputs": [],
   "source": [
    "#plot35\n",
    "plt.figure(figsize=(12,10))\n",
    "sns.scatterplot(df['age'],df['avg_time_spent'], hue=df['churn_risk_score'])"
   ]
  },
  {
   "cell_type": "markdown",
   "id": "443c2bc7",
   "metadata": {},
   "source": [
    "From the plots, there is a little dominance in cluster 1 for the higher avg_time_spent with lesser age."
   ]
  },
  {
   "cell_type": "code",
   "execution_count": null,
   "id": "bd65c87e",
   "metadata": {
    "scrolled": true
   },
   "outputs": [],
   "source": [
    "#plot36\n",
    "plt.figure(figsize=(12,10))\n",
    "sns.scatterplot(df['age'],df['days_since_last_login'], hue=df['churn_risk_score'])"
   ]
  },
  {
   "cell_type": "markdown",
   "id": "81103b3e",
   "metadata": {},
   "source": [
    "The plot shows that the age and days_since_last_login have almost no relationship with respect to churn risk rate since, the values are equally distributed with increase in age."
   ]
  },
  {
   "cell_type": "code",
   "execution_count": null,
   "id": "687a4f79",
   "metadata": {
    "scrolled": true
   },
   "outputs": [],
   "source": [
    "#plot36\n",
    "plt.figure(figsize=(12,10))\n",
    "sns.scatterplot(df['age'],df['points_in_wallet'], hue=df['churn_risk_score'])"
   ]
  },
  {
   "cell_type": "markdown",
   "id": "9252ebbc",
   "metadata": {},
   "source": [
    "The churn risk score 1 is holding the same value irrespective of the age for the values between 700-900.\n",
    "The churn risk score 2 is holding the same value irrespective of the age for the values between 400-500.\n",
    "Also, we could see that the churn risk score 3 is showing its dominance for points below 500.\n",
    "Also, we could see that the churn risk score 1 and 2 is showing its dominance for points above 1000."
   ]
  },
  {
   "cell_type": "code",
   "execution_count": null,
   "id": "c5ada9fb",
   "metadata": {},
   "outputs": [],
   "source": [
    "#plot38\n",
    "plt.figure(figsize=(12,10))\n",
    "sns.scatterplot(df['avg_transaction_value'],df['avg_time_spent'], hue=df['churn_risk_score'])"
   ]
  },
  {
   "cell_type": "markdown",
   "id": "3bc94ff8",
   "metadata": {},
   "source": [
    "The average transaction value is holding maximum range for churn risk score 1 irrespective of the avg_time_Spent. And the values are low for churn risk score 2,3.\n",
    "The avg time spent is higher for lesser avg transactional value for churn risk score of 2 and 3."
   ]
  },
  {
   "cell_type": "code",
   "execution_count": null,
   "id": "072ef702",
   "metadata": {},
   "outputs": [],
   "source": [
    "#plot40\n",
    "plt.figure(figsize=(12,10))\n",
    "sns.scatterplot(df['days_since_last_login'],df['avg_transaction_value'], hue=df['churn_risk_score'])"
   ]
  },
  {
   "cell_type": "markdown",
   "id": "8bfe33ab",
   "metadata": {},
   "source": [
    "The average transaction value is holding maximum range for churn risk score 1 irrespective of the days_since_last_login, and the values are low for churn risk score 2,3."
   ]
  },
  {
   "cell_type": "code",
   "execution_count": null,
   "id": "5e89fd3b",
   "metadata": {},
   "outputs": [],
   "source": [
    "#plot41\n",
    "plt.figure(figsize=(12,10))\n",
    "sns.scatterplot(df['days_since_last_login'],df['points_in_wallet'], hue=df['churn_risk_score'])"
   ]
  },
  {
   "cell_type": "markdown",
   "id": "0bb33d3a",
   "metadata": {},
   "source": [
    "The churn risk score 1 is holding same value irrespective of the days_since_last_login for the values between 600-800.\n",
    "The churn risk score is holding same value irrespective of the age for the values between 400-500.\n",
    "Also, we could see that the churn risk score 3 is showing its dominance for points below 700.\n",
    "Also, we could see that the churn risk score 1 and 2 is showing its dominance for points above 1000."
   ]
  },
  {
   "cell_type": "code",
   "execution_count": null,
   "id": "ea83e32b",
   "metadata": {},
   "outputs": [],
   "source": [
    "#plot41\n",
    "plt.figure(figsize=(12,10))\n",
    "sns.scatterplot(df['avg_time_spent'],df['points_in_wallet'], hue=df['churn_risk_score'])"
   ]
  },
  {
   "cell_type": "markdown",
   "id": "e4ab3b50",
   "metadata": {},
   "source": [
    "The churn risk score 1,2 is holding same value irrespective of the days_since_last_login for the values between 700-800.\n",
    "The churn risk score 3 is holding same value irrespective of the age for the values between 500-650.\n",
    "we could see that the churn risk score 3 is showing its dominance for points below 700.\n",
    "And, we could see that the churn risk score 1 and 2 is showing its dominance for points above 1000.\n",
    "Also, The avg_time_spent is lesser datapoints below 0."
   ]
  },
  {
   "cell_type": "code",
   "execution_count": null,
   "id": "e0a21ef5",
   "metadata": {},
   "outputs": [],
   "source": [
    "#plot42\n",
    "plt.figure(figsize=(12,10))\n",
    "sns.scatterplot(df['avg_transaction_value'],df['points_in_wallet'], hue=df['churn_risk_score'])"
   ]
  },
  {
   "cell_type": "markdown",
   "id": "57ff3127",
   "metadata": {},
   "source": [
    "The average transaction value is holding maximum range for churn risk score 1 irrespective of the points_in_wallet. And the values are low for churn risk score 2,3.\n",
    "The points_in_wallet is higher for lesser avg transactional value for churn risk score of 2 and 3."
   ]
  },
  {
   "cell_type": "code",
   "execution_count": null,
   "id": "8f452ba3",
   "metadata": {},
   "outputs": [],
   "source": [
    "plt.figure(figsize=(20,20))\n",
    "sns.swarmplot(df['membership_category'],df['points_in_wallet'], df['churn_risk_score'])"
   ]
  },
  {
   "cell_type": "code",
   "execution_count": null,
   "id": "e445924e",
   "metadata": {},
   "outputs": [],
   "source": [
    "plt.figure(figsize=(20,20))\n",
    "sns.swarmplot(df['feedback'],df['avg_transaction_value'], df['churn_risk_score'])"
   ]
  },
  {
   "cell_type": "markdown",
   "id": "fc2dc2d6",
   "metadata": {},
   "source": [
    "Customers with churn risk rate 1 who has given positive feedback have avg transactional value's range till 100000.Also, we could see that there is no single customer who has range till 100000 with churn risk rate 2 and 3.\n",
    "On the other hand, the customers with churn risk rate 2 and 3 who have given negative feedback have the average transactional value that is less than 50000.\n",
    "The cluster's seperability is clearly defined."
   ]
  },
  {
   "cell_type": "code",
   "execution_count": null,
   "id": "a1ea5efe",
   "metadata": {},
   "outputs": [],
   "source": [
    "plt.figure(figsize=(20,20))\n",
    "sns.swarmplot(df['feedback'],df['avg_time_spent'], df['churn_risk_score'])"
   ]
  },
  {
   "cell_type": "markdown",
   "id": "9496d8ea",
   "metadata": {},
   "source": [
    "The plot clearly signifies that the customers who gave negative feedback have avg time spent higher till 3000. On the other hand, the customers who have given positive feedback have the average time spent that is less than 2000 with countable number of outliers."
   ]
  },
  {
   "cell_type": "code",
   "execution_count": null,
   "id": "809f086e",
   "metadata": {},
   "outputs": [],
   "source": [
    "sns.heatmap(df.corr(),annot=True)"
   ]
  },
  {
   "cell_type": "code",
   "execution_count": null,
   "id": "10321b6d",
   "metadata": {
    "scrolled": true
   },
   "outputs": [],
   "source": [
    "vif = pd.DataFrame()\n",
    "df_n = df.select_dtypes(include=[np.number])\n",
    "vif[\"Features\"] = df_n.columns\n",
    "vif[\"VIF\"] = [variance_inflation_factor(df_n.values, i) for i in range(df_n.shape[1])]\n",
    "vif.sort_values('VIF', ascending=False)"
   ]
  },
  {
   "cell_type": "markdown",
   "id": "577e6c2f",
   "metadata": {},
   "source": [
    "heatmap clearly states that the numerical variables are independant of each other. No multicollinearity with respect to the numerical variables."
   ]
  },
  {
   "cell_type": "code",
   "execution_count": null,
   "id": "1111b5b9",
   "metadata": {},
   "outputs": [],
   "source": [
    "g = sns.catplot(\n",
    "        x='churn_risk_score', \n",
    "        y='complaint_status', \n",
    "        data=df,\n",
    "        palette='bright',\n",
    "        height=3, aspect=1.3,\n",
    "        kind='bar',\n",
    "        hue='gender', \n",
    "        col ='membership_category',\n",
    "        col_wrap=2)\n",
    "g.set_titles(\n",
    "    'Title: {col_name}');"
   ]
  },
  {
   "cell_type": "code",
   "execution_count": null,
   "id": "f0b3c5f3",
   "metadata": {},
   "outputs": [],
   "source": [
    "g = sns.catplot(\n",
    "        x='churn_risk_score', \n",
    "        y='preferred_offer_types', \n",
    "        data=df,\n",
    "        palette='bright',\n",
    "        height=3, aspect=1.3,\n",
    "        kind='bar',\n",
    "        hue='gender', \n",
    "        col ='membership_category',\n",
    "        col_wrap=2)\n",
    "g.set_titles(\n",
    "    'Title: {col_name}');"
   ]
  },
  {
   "cell_type": "code",
   "execution_count": null,
   "id": "5252a938",
   "metadata": {},
   "outputs": [],
   "source": [
    "g = sns.catplot(\n",
    "        x='churn_risk_score', \n",
    "        y='feedback', \n",
    "        data=df,\n",
    "        palette='bright',\n",
    "        height=3, aspect=1.3,\n",
    "        kind='bar',\n",
    "        hue='complaint_status', \n",
    "        col ='membership_category',\n",
    "        col_wrap=2)\n",
    "g.set_titles(\n",
    "    'Title: {col_name}');"
   ]
  },
  {
   "cell_type": "code",
   "execution_count": null,
   "id": "3249c77c",
   "metadata": {},
   "outputs": [],
   "source": [
    "g = sns.catplot(\n",
    "        x='churn_risk_score', \n",
    "        y='feedback', \n",
    "        data=df,\n",
    "        palette='bright',\n",
    "        height=3, aspect=1.3,\n",
    "        kind='bar',\n",
    "        hue='complaint_status', \n",
    "        col ='membership_category',\n",
    "        col_wrap=2)\n",
    "g.set_titles(\n",
    "    'Title: {col_name}');"
   ]
  },
  {
   "cell_type": "code",
   "execution_count": null,
   "id": "8bbf9cb7",
   "metadata": {},
   "outputs": [],
   "source": [
    "g = sns.catplot(\n",
    "        x='churn_risk_score', \n",
    "        y='feedback', \n",
    "        data=df,\n",
    "        palette='bright',\n",
    "        height=3, aspect=1.3,\n",
    "        kind='bar',\n",
    "        hue='gender', \n",
    "        col ='membership_category',\n",
    "        col_wrap=2)\n",
    "g.set_titles(\n",
    "    'Title: {col_name}');"
   ]
  },
  {
   "cell_type": "markdown",
   "id": "baa1dbbf",
   "metadata": {},
   "source": [
    "The churn risk score 1 class with positive feedback have Platinum, Premium, Gold and Silver membership.\n",
    "The churn risk score 2 class with negative feedback have some Platinum, Premium membership and many Basic membership and No membership\n",
    "The churn risk score 3 class with negative feedback have almost all values in Basic and No membership"
   ]
  },
  {
   "cell_type": "code",
   "execution_count": null,
   "id": "6baeaf37",
   "metadata": {},
   "outputs": [],
   "source": [
    "plt.figure(figsize=(20,20))\n",
    "sns.catplot(\n",
    "        x='churn_risk_score', \n",
    "        y='feedback', \n",
    "        data=df,palette='bright',height=3, aspect=1.3,kind='bar',\n",
    "        hue='complaint_status', \n",
    "        col ='past_complaint',\n",
    "        col_wrap=2)\n",
    "g.set_titles(\n",
    "    'Title: {col_name}');"
   ]
  },
  {
   "cell_type": "code",
   "execution_count": null,
   "id": "3a90b77f",
   "metadata": {},
   "outputs": [],
   "source": [
    "df_mem = pd.crosstab(df['churn_risk_score'], df['membership_category'])"
   ]
  },
  {
   "cell_type": "code",
   "execution_count": null,
   "id": "897d7690",
   "metadata": {},
   "outputs": [],
   "source": [
    "df_grp = df.groupby('churn_risk_score')['avg_transaction_value'].mean()"
   ]
  },
  {
   "cell_type": "code",
   "execution_count": null,
   "id": "5fa7532f",
   "metadata": {},
   "outputs": [],
   "source": [
    "df_sum = df.groupby('churn_risk_score')['avg_transaction_value'].sum()"
   ]
  },
  {
   "cell_type": "code",
   "execution_count": null,
   "id": "813e5076",
   "metadata": {},
   "outputs": [],
   "source": [
    "df_concat = pd.concat([df_mem, df_grp, df_sum], axis=1)\n",
    "#df_concat.to_csv('mem_sum_tran.csv')"
   ]
  },
  {
   "cell_type": "code",
   "execution_count": null,
   "id": "95c2272d",
   "metadata": {},
   "outputs": [],
   "source": [
    "df['churn_risk_score'].value_counts(normalize=True) * 100"
   ]
  },
  {
   "cell_type": "markdown",
   "id": "9fce800b",
   "metadata": {},
   "source": [
    "# Data Preparation for Model Building"
   ]
  },
  {
   "cell_type": "code",
   "execution_count": null,
   "id": "21b72189",
   "metadata": {},
   "outputs": [],
   "source": [
    "df1=df.select_dtypes(include=np.number)\n",
    "df1 = df1.drop('year',axis=1)\n",
    "ss=StandardScaler()\n",
    "df_s=ss.fit_transform(df1)\n",
    "df_s=pd.DataFrame(df_s,columns=df1.columns,index=df1.index)\n",
    "df_s.head()"
   ]
  },
  {
   "cell_type": "code",
   "execution_count": null,
   "id": "af404507",
   "metadata": {
    "scrolled": true
   },
   "outputs": [],
   "source": [
    "vif = pd.DataFrame()\n",
    "vif[\"Features\"] = df_s.columns\n",
    "vif[\"VIF\"] = [variance_inflation_factor(df_s.values, i) for i in range(df_s.shape[1])]\n",
    "vif.sort_values('VIF', ascending=False)"
   ]
  },
  {
   "cell_type": "code",
   "execution_count": null,
   "id": "b705bc6a",
   "metadata": {},
   "outputs": [],
   "source": [
    "df.skew()"
   ]
  },
  {
   "cell_type": "code",
   "execution_count": null,
   "id": "c15349c4",
   "metadata": {},
   "outputs": [],
   "source": [
    "df_n = df.select_dtypes(include=[np.number])\n",
    "X = df_n[['days_since_last_login','avg_transaction_value']]\n",
    "PT_yj = PowerTransformer(method='yeo-johnson')\n",
    "trans_X = pd.DataFrame(PT_yj.fit_transform((X)),columns = X.columns)\n",
    "trans_X.shape"
   ]
  },
  {
   "cell_type": "code",
   "execution_count": null,
   "id": "cac66e61",
   "metadata": {},
   "outputs": [],
   "source": [
    "df.shape"
   ]
  },
  {
   "cell_type": "code",
   "execution_count": null,
   "id": "930840c7",
   "metadata": {},
   "outputs": [],
   "source": [
    "df['days_since_last_login'] = trans_X['days_since_last_login']\n",
    "df['avg_transaction_value'] = trans_X['avg_transaction_value']\n",
    "df.skew()"
   ]
  },
  {
   "cell_type": "code",
   "execution_count": null,
   "id": "7f06b786",
   "metadata": {},
   "outputs": [],
   "source": [
    "df.isnull().sum()"
   ]
  },
  {
   "cell_type": "code",
   "execution_count": null,
   "id": "b64508c9",
   "metadata": {},
   "outputs": [],
   "source": [
    "df_cat = df.select_dtypes(include=[np.object])\n",
    "df_cat=df_cat.drop(['last_visit_time'],axis=1)\n",
    "for i in df_cat.columns:\n",
    "    df_cat[i]=LabelEncoder().fit_transform(df_cat[i])\n",
    "df_cat.head()"
   ]
  },
  {
   "cell_type": "code",
   "execution_count": null,
   "id": "1b4e8e77",
   "metadata": {},
   "outputs": [],
   "source": [
    "df2=pd.concat([df_s,df_cat,df['year']],axis=1)\n",
    "df2.head()"
   ]
  },
  {
   "cell_type": "code",
   "execution_count": null,
   "id": "be4c497a",
   "metadata": {},
   "outputs": [],
   "source": [
    "df['churn_risk_score'] = df['churn_risk_score'].astype('int')"
   ]
  },
  {
   "cell_type": "code",
   "execution_count": null,
   "id": "00c4d2e2",
   "metadata": {},
   "outputs": [],
   "source": [
    "x=df2.drop('churn_risk_score',axis=1)\n",
    "#x = df2\n",
    "y=df['churn_risk_score']"
   ]
  },
  {
   "cell_type": "code",
   "execution_count": null,
   "id": "17c3ce82",
   "metadata": {},
   "outputs": [],
   "source": [
    "X_train, X_test, y_train, y_test = train_test_split(x, y, test_size = 0.20, random_state = 5, stratify=y)\n",
    "print(X_train.shape)\n",
    "print(X_test.shape)\n",
    "print(y_train.shape)\n",
    "print(y_test.shape)"
   ]
  },
  {
   "cell_type": "markdown",
   "id": "79233158",
   "metadata": {},
   "source": [
    "# Statistical Tests"
   ]
  },
  {
   "cell_type": "raw",
   "id": "2093733d",
   "metadata": {},
   "source": [
    "Null hypothesis (Ho)      : 'age' and 'churn_risk_score' are Independent  \n",
    "Alternate hypothesis (Ha) : 'age' and 'churn_risk_score' are Dependent\n",
    "Confidence_Interval    : 0.95\n",
    "level_of_significance  : 0.05"
   ]
  },
  {
   "cell_type": "code",
   "execution_count": null,
   "id": "62e1e81c",
   "metadata": {},
   "outputs": [],
   "source": [
    "m1 = ols('age ~ churn_risk_score', data = df2).fit() \n",
    "anov_table1 = anova_lm(m1, typ=1)\n",
    "anov_table1"
   ]
  },
  {
   "cell_type": "raw",
   "id": "1256a54b",
   "metadata": {},
   "source": [
    "Pvalue(0.310) > level_of_significance(0.05), we ACCEPT the Null hypothesis.\n",
    "The Variables 'age' and 'churn_risk_score' are InDependent of each other."
   ]
  },
  {
   "cell_type": "raw",
   "id": "29296907",
   "metadata": {},
   "source": [
    "Null hypothesis (Ho)      : 'days_since_last_login' and 'churn_risk_score' are Independent  \n",
    "Alternate hypothesis (Ha) : 'days_since_last_login' and 'churn_risk_score' are Dependent\n",
    "Confidence_Interval    : 0.95\n",
    "level_of_significance  : 0.05"
   ]
  },
  {
   "cell_type": "code",
   "execution_count": null,
   "id": "2793e5b3",
   "metadata": {},
   "outputs": [],
   "source": [
    "m2 = ols('days_since_last_login ~ churn_risk_score', data = df2).fit() \n",
    "anov_table2 = anova_lm(m2, typ=1)\n",
    "anov_table2"
   ]
  },
  {
   "cell_type": "raw",
   "id": "47798eaf",
   "metadata": {},
   "source": [
    "Pvalue(1.718e-09) < level_of_significance(0.05), we REJECT the Null hypothesis.\n",
    "The Variables 'days_since_last_login' and 'churn_risk_score' are Dependent on each other."
   ]
  },
  {
   "cell_type": "raw",
   "id": "523482c9",
   "metadata": {},
   "source": [
    "Null hypothesis (Ho)      : 'avg_time_spent' and 'churn_risk_score' are Independent  \n",
    "Alternate hypothesis (Ha) : 'avg_time_spent' and 'churn_risk_score' are Dependent\n",
    "Confidence_Interval    : 0.95\n",
    "level_of_significance  : 0.05"
   ]
  },
  {
   "cell_type": "code",
   "execution_count": null,
   "id": "b519f7dd",
   "metadata": {},
   "outputs": [],
   "source": [
    "m3 = ols('avg_time_spent ~ churn_risk_score', data = df2).fit() \n",
    "anov_table3 = anova_lm(m3, typ=1)\n",
    "anov_table3"
   ]
  },
  {
   "cell_type": "raw",
   "id": "d33a7f19",
   "metadata": {},
   "source": [
    "Pvalue(8.846e-07) < level_of_significance(0.05), we REJECT the Null hypothesis.\n",
    "The Variables 'avg_time_spent' and 'churn_risk_score' are Dependent on each other."
   ]
  },
  {
   "cell_type": "raw",
   "id": "73aeda7d",
   "metadata": {},
   "source": [
    "Null hypothesis (Ho)      : 'avg_transaction_value' and 'churn_risk_score' are Independent  \n",
    "Alternate hypothesis (Ha) : 'avg_transaction_value' and 'churn_risk_score' are Dependent\n",
    "Confidence_Interval    : 0.95\n",
    "level_of_significance  : 0.05"
   ]
  },
  {
   "cell_type": "code",
   "execution_count": null,
   "id": "2781ba54",
   "metadata": {},
   "outputs": [],
   "source": [
    "m4 = ols('avg_transaction_value ~ churn_risk_score', data = df2).fit() \n",
    "anov_table4 = anova_lm(m4, typ=1)\n",
    "anov_table4"
   ]
  },
  {
   "cell_type": "raw",
   "id": "acaf53db",
   "metadata": {},
   "source": [
    "Pvalue(8.846e-07) < level_of_significance(0.05), we REJECT the Null hypothesis.\n",
    "The Variables 'avg_transaction_value' and 'churn_risk_score' are Dependent on each other."
   ]
  },
  {
   "cell_type": "raw",
   "id": "7f2b345a",
   "metadata": {},
   "source": [
    "Null hypothesis (Ho)      : 'points_in_wallet' and 'churn_risk_score' are Independent  \n",
    "Alternate hypothesis (Ha) : 'points_in_wallet' and 'churn_risk_score' are Dependent\n",
    "Confidence_Interval    : 0.95\n",
    "level_of_significance  : 0.05"
   ]
  },
  {
   "cell_type": "code",
   "execution_count": null,
   "id": "e6c6222e",
   "metadata": {},
   "outputs": [],
   "source": [
    "m5 = ols('points_in_wallet ~ churn_risk_score', data = df2).fit() \n",
    "anov_table5 = anova_lm(m5, typ=1)\n",
    "anov_table5"
   ]
  },
  {
   "cell_type": "raw",
   "id": "6fcf49f3",
   "metadata": {},
   "source": [
    "Pvalue(2.260e-279) < level_of_significance(0.05), we REJECT the Null hypothesis.\n",
    "The Variables 'points_in_wallet' and 'churn_risk_score' are Dependent on each other."
   ]
  },
  {
   "cell_type": "raw",
   "id": "83b58b22",
   "metadata": {},
   "source": [
    "Null hypothesis (Ho)      : 'year' and 'churn_risk_score' are Independent  \n",
    "Alternate hypothesis (Ha) : 'year' and 'churn_risk_score' are Dependent\n",
    "Confidence_Interval    : 0.95\n",
    "level_of_significance  : 0.05"
   ]
  },
  {
   "cell_type": "code",
   "execution_count": null,
   "id": "cafa3726",
   "metadata": {},
   "outputs": [],
   "source": [
    "m6 = ols('year ~ churn_risk_score', data = df2).fit() \n",
    "anov_table6 = anova_lm(m6, typ=1)\n",
    "anov_table6"
   ]
  },
  {
   "cell_type": "raw",
   "id": "8bfe90bb",
   "metadata": {},
   "source": [
    "Pvalue(0.169) > level_of_significance(0.05), we ACCEPT the Null hypothesis.\n",
    "The Variables 'year' and 'churn_risk_score' are InDependent of each other."
   ]
  },
  {
   "cell_type": "raw",
   "id": "765ad038",
   "metadata": {},
   "source": [
    "Null hypothesis (Ho)      : 'gender' and 'churn_risk_score' are Independent  \n",
    "Alternate hypothesis (Ha) : 'gender' and 'churn_risk_score' are Dependent\n",
    "Confidence_Interval    : 0.95\n",
    "level_of_significance  : 0.05"
   ]
  },
  {
   "cell_type": "code",
   "execution_count": null,
   "id": "2eb209ae",
   "metadata": {},
   "outputs": [],
   "source": [
    "ct1=pd.crosstab(df['gender'],df['churn_risk_score'])\n",
    "stats.chi2_contingency(ct1)"
   ]
  },
  {
   "cell_type": "raw",
   "id": "e288f6e4",
   "metadata": {},
   "source": [
    "Pvalue(0.674) > level_of_significance(0.05), we ACCEPT the Null hypothesis.\n",
    "The Variables 'gender' and 'churn_risk_score' are InDependent of each other."
   ]
  },
  {
   "cell_type": "raw",
   "id": "f4b22170",
   "metadata": {},
   "source": [
    "Null hypothesis (Ho)      : 'region_category' and 'churn_risk_score' are Independent  \n",
    "Alternate hypothesis (Ha) : 'region_category' and 'churn_risk_score' are Dependent\n",
    "Confidence_Interval    : 0.95\n",
    "level_of_significance  : 0.05"
   ]
  },
  {
   "cell_type": "code",
   "execution_count": null,
   "id": "63b141b6",
   "metadata": {},
   "outputs": [],
   "source": [
    "ct2=pd.crosstab(df['region_category'],df['churn_risk_score'])\n",
    "stats.chi2_contingency(ct2)"
   ]
  },
  {
   "cell_type": "raw",
   "id": "7d339c83",
   "metadata": {},
   "source": [
    "Pvalue(1.523e-15) < level_of_significance(0.05), we REJECT the Null hypothesis.\n",
    "The Variables 'region_category' and 'churn_risk_score' are Dependent on each other."
   ]
  },
  {
   "cell_type": "raw",
   "id": "9b91a621",
   "metadata": {},
   "source": [
    "Null hypothesis (Ho)      : 'membership_category' and 'churn_risk_score' are Independent  \n",
    "Alternate hypothesis (Ha) : 'membership_category' and 'churn_risk_score' are Dependent\n",
    "Confidence_Interval    : 0.95\n",
    "level_of_significance  : 0.05"
   ]
  },
  {
   "cell_type": "code",
   "execution_count": null,
   "id": "6116e5ab",
   "metadata": {},
   "outputs": [],
   "source": [
    "ct3=pd.crosstab(df['membership_category'],df['churn_risk_score'])\n",
    "stats.chi2_contingency(ct3)"
   ]
  },
  {
   "cell_type": "raw",
   "id": "755f42a5",
   "metadata": {},
   "source": [
    "Pvalue(0.0) < level_of_significance(0.05), we REJECT the Null hypothesis.\n",
    "The Variables 'membership_category' and 'churn_risk_score' are Dependent on each other."
   ]
  },
  {
   "cell_type": "raw",
   "id": "8f823334",
   "metadata": {},
   "source": [
    "Null hypothesis (Ho)      : 'membership_category' and 'churn_risk_score' are Independent  \n",
    "Alternate hypothesis (Ha) : 'membership_category' and 'churn_risk_score' are Dependent\n",
    "Confidence_Interval    : 0.95\n",
    "level_of_significance  : 0.05"
   ]
  },
  {
   "cell_type": "code",
   "execution_count": null,
   "id": "bb459793",
   "metadata": {},
   "outputs": [],
   "source": [
    "ct4=pd.crosstab(df['joined_through_referral'],df['churn_risk_score'])\n",
    "stats.chi2_contingency(ct4)"
   ]
  },
  {
   "cell_type": "raw",
   "id": "2322d4c5",
   "metadata": {},
   "source": [
    "Pvalue(3.565e-26) < level_of_significance(0.05), we REJECT the Null hypothesis.\n",
    "The Variables 'membership_category' and 'churn_risk_score' are Dependent on each other."
   ]
  },
  {
   "cell_type": "raw",
   "id": "a582f0f3",
   "metadata": {},
   "source": [
    "Null hypothesis (Ho)      : 'preferred_offer_types' and 'churn_risk_score' are Independent  \n",
    "Alternate hypothesis (Ha) : 'preferred_offer_types' and 'churn_risk_score' are Dependent\n",
    "Confidence_Interval    : 0.95\n",
    "level_of_significance  : 0.05"
   ]
  },
  {
   "cell_type": "code",
   "execution_count": null,
   "id": "ab86aaef",
   "metadata": {},
   "outputs": [],
   "source": [
    "ct5=pd.crosstab(df['preferred_offer_types'],df['churn_risk_score'])\n",
    "stats.chi2_contingency(ct5)"
   ]
  },
  {
   "cell_type": "raw",
   "id": "27caf718",
   "metadata": {},
   "source": [
    "Pvalue(7.977e-54) < level_of_significance(0.05), we REJECT the Null hypothesis.\n",
    "The Variables 'preferred_offer_types' and 'churn_risk_score' are Dependent on each other."
   ]
  },
  {
   "cell_type": "raw",
   "id": "3d28e027",
   "metadata": {},
   "source": [
    "Null hypothesis (Ho)      : 'medium_of_operation' and 'churn_risk_score' are Independent  \n",
    "Alternate hypothesis (Ha) : 'medium_of_operation' and 'churn_risk_score' are Dependent\n",
    "Confidence_Interval    : 0.95\n",
    "level_of_significance  : 0.05"
   ]
  },
  {
   "cell_type": "code",
   "execution_count": null,
   "id": "a26de57d",
   "metadata": {},
   "outputs": [],
   "source": [
    "ct6=pd.crosstab(df['medium_of_operation'],df['churn_risk_score'])\n",
    "stats.chi2_contingency(ct6)"
   ]
  },
  {
   "cell_type": "raw",
   "id": "220b4282",
   "metadata": {},
   "source": [
    "Pvalue(3.666e-15) < level_of_significance(0.05), we REJECT the Null hypothesis.\n",
    "The Variables 'medium_of_operation' and 'churn_risk_score' are Dependent on each other."
   ]
  },
  {
   "cell_type": "raw",
   "id": "24d6341e",
   "metadata": {},
   "source": [
    "Null hypothesis (Ho)      : 'internet_option' and 'churn_risk_score' are Independent  \n",
    "Alternate hypothesis (Ha) : 'internet_option' and 'churn_risk_score' are Dependent\n",
    "Confidence_Interval    : 0.95\n",
    "level_of_significance  : 0.05"
   ]
  },
  {
   "cell_type": "code",
   "execution_count": null,
   "id": "0dbee077",
   "metadata": {},
   "outputs": [],
   "source": [
    "ct7=pd.crosstab(df['internet_option'],df['churn_risk_score'])\n",
    "stats.chi2_contingency(ct7)"
   ]
  },
  {
   "cell_type": "raw",
   "id": "982e0538",
   "metadata": {},
   "source": [
    "Pvalue(0.335) > level_of_significance(0.05), we ACCEPT the Null hypothesis.\n",
    "The Variables 'internet_option' and 'churn_risk_score' are InDependent of each other."
   ]
  },
  {
   "cell_type": "raw",
   "id": "1c02cd00",
   "metadata": {},
   "source": [
    "Null hypothesis (Ho)      : 'used_special_discount' and 'churn_risk_score' are Independent  \n",
    "Alternate hypothesis (Ha) : 'used_special_discount' and 'churn_risk_score' are Dependent\n",
    "Confidence_Interval    : 0.95\n",
    "level_of_significance  : 0.05"
   ]
  },
  {
   "cell_type": "code",
   "execution_count": null,
   "id": "d1204f93",
   "metadata": {},
   "outputs": [],
   "source": [
    "ct8=pd.crosstab(df['used_special_discount'],df['churn_risk_score'])\n",
    "stats.chi2_contingency(ct8)"
   ]
  },
  {
   "cell_type": "raw",
   "id": "07994311",
   "metadata": {},
   "source": [
    "Pvalue(0.122) > level_of_significance(0.05), we ACCEPT the Null hypothesis.\n",
    "The Variables 'used_special_discount' and 'churn_risk_score' are InDependent of each other."
   ]
  },
  {
   "cell_type": "raw",
   "id": "a529e207",
   "metadata": {},
   "source": [
    "Null hypothesis (Ho)      : 'offer_application_preference' and 'churn_risk_score' are Independent  \n",
    "Alternate hypothesis (Ha) : 'offer_application_preference' and 'churn_risk_score' are Dependent\n",
    "Confidence_Interval    : 0.95\n",
    "level_of_significance  : 0.05"
   ]
  },
  {
   "cell_type": "code",
   "execution_count": null,
   "id": "74876a37",
   "metadata": {},
   "outputs": [],
   "source": [
    "ct9=pd.crosstab(df['offer_application_preference'],df['churn_risk_score'])\n",
    "stats.chi2_contingency(ct9)"
   ]
  },
  {
   "cell_type": "raw",
   "id": "ab258d1c",
   "metadata": {},
   "source": [
    "Pvalue(7.866e-20) < level_of_significance(0.05), we REJECT the Null hypothesis.\n",
    "The Variables 'offer_application_preference' and 'churn_risk_score' are Dependent on each other."
   ]
  },
  {
   "cell_type": "raw",
   "id": "1e18a113",
   "metadata": {},
   "source": [
    "Null hypothesis (Ho)      : 'past_complaint' and 'churn_risk_score' are Independent  \n",
    "Alternate hypothesis (Ha) : 'past_complaint' and 'churn_risk_score' are Dependent\n",
    "Confidence_Interval    : 0.95\n",
    "level_of_significance  : 0.05"
   ]
  },
  {
   "cell_type": "code",
   "execution_count": null,
   "id": "8aa5f4a5",
   "metadata": {},
   "outputs": [],
   "source": [
    "ct10=pd.crosstab(df['past_complaint'],df['churn_risk_score'])\n",
    "stats.chi2_contingency(ct10)"
   ]
  },
  {
   "cell_type": "raw",
   "id": "d81c44ae",
   "metadata": {},
   "source": [
    "Pvalue(0.012) < level_of_significance(0.05), we REJECT the Null hypothesis.\n",
    "The Variables 'past_complaint' and 'churn_risk_score' are Dependent on each other."
   ]
  },
  {
   "cell_type": "raw",
   "id": "74c0f432",
   "metadata": {},
   "source": [
    "Null hypothesis (Ho)      : 'complaint_status' and 'churn_risk_score' are Independent  \n",
    "Alternate hypothesis (Ha) : 'complaint_status' and 'churn_risk_score' are Dependent\n",
    "Confidence_Interval    : 0.95\n",
    "level_of_significance  : 0.05"
   ]
  },
  {
   "cell_type": "code",
   "execution_count": null,
   "id": "d74064ca",
   "metadata": {},
   "outputs": [],
   "source": [
    "ct11=pd.crosstab(df['complaint_status'],df['churn_risk_score'])\n",
    "stats.chi2_contingency(ct11)"
   ]
  },
  {
   "cell_type": "raw",
   "id": "c0c41de8",
   "metadata": {},
   "source": [
    "Pvalue(0.071) > level_of_significance(0.05), we ACCEPT the Null hypothesis.\n",
    "The Variables 'complaint_status' and 'churn_risk_score' are InDependent of each other."
   ]
  },
  {
   "cell_type": "raw",
   "id": "23f224d4",
   "metadata": {},
   "source": [
    "Null hypothesis (Ho)      : 'feedback' and 'churn_risk_score' are Independent  \n",
    "Alternate hypothesis (Ha) : 'feedback' and 'churn_risk_score' are Dependent\n",
    "Confidence_Interval    : 0.95\n",
    "level_of_significance  : 0.05"
   ]
  },
  {
   "cell_type": "code",
   "execution_count": null,
   "id": "7b985272",
   "metadata": {},
   "outputs": [],
   "source": [
    "ct12=pd.crosstab(df['feedback'],df['churn_risk_score'])\n",
    "stats.chi2_contingency(ct12)"
   ]
  },
  {
   "cell_type": "raw",
   "id": "be814d85",
   "metadata": {},
   "source": [
    "Pvalue(0.0) < level_of_significance(0.05), we REJECT the Null hypothesis.\n",
    "The Variables 'feedback' and 'churn_risk_score' are Dependent on each other."
   ]
  },
  {
   "cell_type": "code",
   "execution_count": null,
   "id": "c595b229",
   "metadata": {},
   "outputs": [],
   "source": [
    "mod1 = ols('churn_risk_score ~ age+days_since_last_login+avg_time_spent+avg_transaction_value+points_in_wallet+year', data = df2).fit()\n",
    "aov_table =anova_lm(mod1, typ=1)\n",
    "print(\"In-Significant numerical variables for predicting churn_risk_score:\")\n",
    "print(aov_table[aov_table['PR(>F)'] > 0.05].index.tolist())"
   ]
  },
  {
   "cell_type": "code",
   "execution_count": null,
   "id": "83725d5c",
   "metadata": {},
   "outputs": [],
   "source": [
    "l1 = df.select_dtypes(include=[np.object]).columns\n",
    "l2 = []\n",
    "l3 = []\n",
    "for i in range(len(l1)):\n",
    "    ct = pd.crosstab(df['churn_risk_score'],df[l1[i]])\n",
    "    tstat, pval, ddof, exp_val = stats.chi2_contingency(ct)\n",
    "    if pval > 0.05:\n",
    "        l2.append(l1[i])\n",
    "    else:\n",
    "        l3.append(l1[i])\n",
    "print(\"In-Significant categorical variables for predicting churn_risk_score:\")\n",
    "print(l2)"
   ]
  },
  {
   "cell_type": "code",
   "execution_count": null,
   "id": "d7725646",
   "metadata": {},
   "outputs": [],
   "source": [
    "print(\"Significant categorical variables for predicting churn_risk_score:\")\n",
    "print(l3)"
   ]
  },
  {
   "cell_type": "markdown",
   "id": "0d4cee6d",
   "metadata": {},
   "source": [
    "# BASE-MODEL Logistic Regression"
   ]
  },
  {
   "cell_type": "code",
   "execution_count": null,
   "id": "c6838959",
   "metadata": {},
   "outputs": [],
   "source": [
    "y_train.reset_index(drop=True, inplace=True)"
   ]
  },
  {
   "cell_type": "code",
   "execution_count": null,
   "id": "090b8307",
   "metadata": {},
   "outputs": [],
   "source": [
    "X_train.reset_index(inplace=True)"
   ]
  },
  {
   "cell_type": "code",
   "execution_count": null,
   "id": "e0dc46f5",
   "metadata": {},
   "outputs": [],
   "source": [
    "y_train.index"
   ]
  },
  {
   "cell_type": "code",
   "execution_count": null,
   "id": "0b5959c3",
   "metadata": {},
   "outputs": [],
   "source": [
    "y_train.shape, X_train.shape"
   ]
  },
  {
   "cell_type": "code",
   "execution_count": null,
   "id": "5a233594",
   "metadata": {},
   "outputs": [],
   "source": [
    "X_train.drop('index',axis=1, inplace=True)"
   ]
  },
  {
   "cell_type": "code",
   "execution_count": null,
   "id": "4d28a48a",
   "metadata": {},
   "outputs": [],
   "source": [
    "ols_model=sm.OLS(y_train,sm.add_constant(X_train)).fit()\n",
    "ols_model.summary()"
   ]
  },
  {
   "cell_type": "code",
   "execution_count": null,
   "id": "3282fc65",
   "metadata": {},
   "outputs": [],
   "source": [
    "score_card = pd.DataFrame(columns=['Model', 'Precision Score', 'Recall Score',\n",
    "                                   'False Negatives', 'Kappa Score', 'f1-score'])"
   ]
  },
  {
   "cell_type": "code",
   "execution_count": null,
   "id": "d6ea41da",
   "metadata": {},
   "outputs": [],
   "source": [
    "def update_score_card(model, FN_values, model_name):\n",
    "    y_pred = model.predict(X_test)\n",
    "    global score_card\n",
    "    score_card = score_card.append({'Model': model_name,\n",
    "                                    'Precision Score': precision_score(y_test, y_pred, average='macro'),\n",
    "                                    'Recall Score': recall_score(y_test, y_pred, average='macro'),\n",
    "                                    'False Negatives': FN_values,\n",
    "                                    'Kappa Score': cohen_kappa_score(y_test, y_pred),\n",
    "                                    'f1-score': f1_score(y_test, y_pred, average='macro')}, \n",
    "                                    ignore_index = True)"
   ]
  },
  {
   "cell_type": "code",
   "execution_count": null,
   "id": "4ca9a6a1",
   "metadata": {
    "scrolled": true
   },
   "outputs": [],
   "source": [
    "LR_model = LogisticRegression(multi_class='multinomial', solver='lbfgs').fit(X_train,y_train)\n",
    "\n",
    "y_pred_xtest=LR_model.predict(X_test)\n",
    "print(classification_report(y_test,y_pred_xtest))"
   ]
  },
  {
   "cell_type": "code",
   "execution_count": null,
   "id": "08e4d9ff",
   "metadata": {},
   "outputs": [],
   "source": [
    "ConfusionMatrixDisplay.from_predictions(y_test,y_pred_xtest, cmap='Reds')"
   ]
  },
  {
   "cell_type": "code",
   "execution_count": null,
   "id": "a24a9c67",
   "metadata": {
    "scrolled": true
   },
   "outputs": [],
   "source": [
    "LR_mul = multilabel_confusion_matrix(y_test, y_pred_xtest)\n",
    "LR_mul"
   ]
  },
  {
   "cell_type": "code",
   "execution_count": null,
   "id": "f42fd049",
   "metadata": {},
   "outputs": [],
   "source": [
    "LR_FN = LR_mul[2][1][0]\n",
    "update_score_card(LR_model, LR_FN, 'LR_model(Base)')"
   ]
  },
  {
   "cell_type": "code",
   "execution_count": null,
   "id": "ad31aad8",
   "metadata": {},
   "outputs": [],
   "source": [
    "cohen_kappa_score(y_test, y_pred_xtest)"
   ]
  },
  {
   "cell_type": "code",
   "execution_count": null,
   "id": "e7e121fa",
   "metadata": {},
   "outputs": [],
   "source": [
    "#For logistic regression model, the roc curve with yellowbrick package\n",
    "LR_visualizer = ROCAUC(LR_model)\n",
    "\n",
    "LR_visualizer.fit(X_train, y_train)        # Fit the training data to the visualizer\n",
    "LR_visualizer.score(X_test, y_test)        # Evaluate the model on the test data\n",
    "LR_visualizer.show()   "
   ]
  },
  {
   "cell_type": "markdown",
   "id": "020e9877",
   "metadata": {},
   "source": [
    "# Decision Tree"
   ]
  },
  {
   "cell_type": "code",
   "execution_count": null,
   "id": "f969fa30",
   "metadata": {},
   "outputs": [],
   "source": [
    "X_train.columns"
   ]
  },
  {
   "cell_type": "raw",
   "id": "02dd0b7f",
   "metadata": {},
   "source": [
    "Since the statistical test has confirmed that the in-significant variables are:\n",
    "    'age', 'year','gender','internet_option', 'last_visit_time', 'used_special_discount', 'complaint_status'\n",
    "We are dropping the variables from xtrain and xtest"
   ]
  },
  {
   "cell_type": "code",
   "execution_count": null,
   "id": "2005f721",
   "metadata": {},
   "outputs": [],
   "source": [
    "X_train.drop(['avg_time_spent', 'age', 'year', 'gender', 'internet_option', 'used_special_discount', 'complaint_status'],axis=1, inplace=True)\n",
    "X_test.drop(['avg_time_spent', 'age', 'year', 'gender', 'internet_option', 'used_special_discount', 'complaint_status'],axis=1, inplace=True)"
   ]
  },
  {
   "cell_type": "code",
   "execution_count": null,
   "id": "63ec2def",
   "metadata": {},
   "outputs": [],
   "source": [
    "decision_tree_classification = DecisionTreeClassifier(criterion = 'entropy', random_state = 10)#default=gini\n",
    "decision_tree = decision_tree_classification.fit(X_train, y_train)\n",
    "y_pred_xtest=decision_tree.predict(X_test)\n",
    "print(classification_report(y_test, y_pred_xtest))"
   ]
  },
  {
   "cell_type": "code",
   "execution_count": null,
   "id": "565e533b",
   "metadata": {
    "scrolled": false
   },
   "outputs": [],
   "source": [
    "DT_mul = multilabel_confusion_matrix(y_test, y_pred_xtest)\n",
    "DT_mul"
   ]
  },
  {
   "cell_type": "code",
   "execution_count": null,
   "id": "bab97bd8",
   "metadata": {},
   "outputs": [],
   "source": [
    "DT_FN = DT_mul[2][1][0]\n",
    "update_score_card(decision_tree, DT_FN, 'Decision Tree')"
   ]
  },
  {
   "cell_type": "code",
   "execution_count": null,
   "id": "e509fead",
   "metadata": {},
   "outputs": [],
   "source": [
    "cohen_kappa_score(y_test, y_pred_xtest)"
   ]
  },
  {
   "cell_type": "code",
   "execution_count": null,
   "id": "380a42e6",
   "metadata": {},
   "outputs": [],
   "source": [
    "ConfusionMatrixDisplay.from_predictions(y_test,y_pred_xtest, cmap='Reds')"
   ]
  },
  {
   "cell_type": "code",
   "execution_count": null,
   "id": "5621f56a",
   "metadata": {},
   "outputs": [],
   "source": [
    "#For logistic regression model, the roc curve with yellowbrick package\n",
    "DT_visualizer = ROCAUC(decision_tree)\n",
    "\n",
    "DT_visualizer.fit(X_train, y_train)        # Fit the training data to the visualizer\n",
    "DT_visualizer.score(X_test, y_test)        # Evaluate the model on the test data\n",
    "DT_visualizer.show()  "
   ]
  },
  {
   "cell_type": "raw",
   "id": "bc174a1f",
   "metadata": {},
   "source": [
    "param_dist = {\"max_depth\": range(1,15),\n",
    "              \"max_features\": range(1, 11),\n",
    "              \"min_samples_split\": range(2, 11),\n",
    "              \"min_samples_leaf\": range(1, 11),\n",
    "              \"max_leaf_nodes\": range(1,10),\n",
    "              \"criterion\": [\"gini\",\"entropy\"]}\n",
    "\n",
    "# run randomized search\n",
    "n_iter_search = 20\n",
    "clf = DecisionTreeClassifier(random_state=10, class_weight='balanced')\n",
    "random_search = RandomizedSearchCV(clf, param_distributions=param_dist,\n",
    "                                   n_iter=n_iter_search)\n",
    "\n",
    "#start = time()\n",
    "random_search.fit(X_train, y_train)\n",
    "random_search.best_params_"
   ]
  },
  {
   "cell_type": "code",
   "execution_count": null,
   "id": "43a308cc",
   "metadata": {},
   "outputs": [],
   "source": [
    "X_train.shape"
   ]
  },
  {
   "cell_type": "code",
   "execution_count": null,
   "id": "22705323",
   "metadata": {},
   "outputs": [],
   "source": [
    "decision_tree_classification_tuned = DecisionTreeClassifier(criterion='entropy',\n",
    "                                                           max_depth=11,\n",
    "                                                           max_leaf_nodes=9,\n",
    "                                                           min_samples_leaf=8,\n",
    "                                                           min_samples_split=3,\n",
    "                                                           random_state=10,\n",
    "                                                           class_weight='balanced')\n",
    "decision_tree_tuned = decision_tree_classification_tuned.fit(X_train, y_train)\n",
    "y_pred_xtest=decision_tree.predict(X_test)\n",
    "print(classification_report(y_test, y_pred_xtest))"
   ]
  },
  {
   "cell_type": "code",
   "execution_count": null,
   "id": "fbb8a1fb",
   "metadata": {
    "scrolled": false
   },
   "outputs": [],
   "source": [
    "DTT_mul = multilabel_confusion_matrix(y_test, y_pred_xtest)\n",
    "DTT_mul"
   ]
  },
  {
   "cell_type": "code",
   "execution_count": null,
   "id": "9c128911",
   "metadata": {},
   "outputs": [],
   "source": [
    "DTT_FN = DTT_mul[2][1][0]\n",
    "update_score_card(decision_tree_tuned, DTT_FN, 'Decision Tree Tuned')"
   ]
  },
  {
   "cell_type": "code",
   "execution_count": null,
   "id": "b017324a",
   "metadata": {},
   "outputs": [],
   "source": [
    "cohen_kappa_score(y_test, y_pred_xtest)"
   ]
  },
  {
   "cell_type": "code",
   "execution_count": null,
   "id": "e2b3820f",
   "metadata": {},
   "outputs": [],
   "source": [
    "ConfusionMatrixDisplay.from_predictions(y_test,y_pred_xtest, cmap='Reds')"
   ]
  },
  {
   "cell_type": "code",
   "execution_count": null,
   "id": "4fbfa05a",
   "metadata": {},
   "outputs": [],
   "source": [
    "#For logistic regression model, the roc curve with yellowbrick package\n",
    "DTT_visualizer = ROCAUC(decision_tree_classification_tuned)\n",
    "\n",
    "DTT_visualizer.fit(X_train, y_train)        # Fit the training data to the visualizer\n",
    "DTT_visualizer.score(X_test, y_test)        # Evaluate the model on the test data\n",
    "DTT_visualizer.show()   "
   ]
  },
  {
   "cell_type": "markdown",
   "id": "0cd815d6",
   "metadata": {},
   "source": [
    "# Random Forest"
   ]
  },
  {
   "cell_type": "raw",
   "id": "dee6a0d2",
   "metadata": {},
   "source": [
    "param_dist = {\"n_estimators\" : [10,20,30],\n",
    "              \"max_depth\": range(1,11),\n",
    "              \"max_features\": range(1, 11),\n",
    "              \"min_samples_split\": range(2, 11),\n",
    "              \"min_samples_leaf\": range(1, 11),\n",
    "              \"bootstrap\": [True, False],\n",
    "              \"criterion\": [\"gini\",\"entropy\"]}\n",
    "\n",
    "# run randomized search\n",
    "n_iter_search = 20\n",
    "clf = RandomForestClassifier(random_state=10, class_weight='balanced')\n",
    "random_search = RandomizedSearchCV(clf, param_distributions=param_dist,\n",
    "                                   n_iter=n_iter_search)\n",
    "\n",
    "#start = time()\n",
    "random_search.fit(X_train, y_train)\n",
    "random_search.best_params_"
   ]
  },
  {
   "cell_type": "code",
   "execution_count": null,
   "id": "d803d062",
   "metadata": {},
   "outputs": [],
   "source": [
    "rf_classification = RandomForestClassifier(n_estimators = 30, random_state = 10,max_depth=10,max_features=8,min_samples_split=9,min_samples_leaf= 10,criterion = 'entropy', bootstrap = True,class_weight='balanced')\n",
    "# use fit() to fit the model on the train set\n",
    "rf_model = rf_classification.fit(X_train, y_train)\n",
    "y_pred_xtest=rf_model.predict(X_test)\n",
    "\n",
    "# print the performance measures\n",
    "print(classification_report(y_test,y_pred_xtest))"
   ]
  },
  {
   "cell_type": "code",
   "execution_count": null,
   "id": "2110efbd",
   "metadata": {
    "scrolled": true
   },
   "outputs": [],
   "source": [
    "ConfusionMatrixDisplay.from_predictions(y_test,y_pred_xtest, cmap='Reds')"
   ]
  },
  {
   "cell_type": "code",
   "execution_count": null,
   "id": "47656257",
   "metadata": {
    "scrolled": true
   },
   "outputs": [],
   "source": [
    "RF_mul = multilabel_confusion_matrix(y_test, y_pred_xtest)\n",
    "RF_mul"
   ]
  },
  {
   "cell_type": "code",
   "execution_count": null,
   "id": "7cd59e28",
   "metadata": {},
   "outputs": [],
   "source": [
    "RF_FN = RF_mul[2][1][0]\n",
    "update_score_card(rf_model, RF_FN, 'Random Forest Tuned')"
   ]
  },
  {
   "cell_type": "code",
   "execution_count": null,
   "id": "904e14aa",
   "metadata": {
    "scrolled": true
   },
   "outputs": [],
   "source": [
    "cohen_kappa_score(y_test, y_pred_xtest)"
   ]
  },
  {
   "cell_type": "code",
   "execution_count": null,
   "id": "d0962079",
   "metadata": {},
   "outputs": [],
   "source": [
    "RF_visualizer = ROCAUC(rf_model)\n",
    "\n",
    "RF_visualizer.fit(X_train, y_train)        # Fit the training data to the visualizer\n",
    "RF_visualizer.score(X_test, y_test)        # Evaluate the model on the test data\n",
    "RF_visualizer.show()   "
   ]
  },
  {
   "cell_type": "raw",
   "id": "5727ffcd",
   "metadata": {},
   "source": [
    "param_dist = {\"n_neighbors\" : [5,10,20,40]}\n",
    "\n",
    "# run randomized search\n",
    "clf = KNeighborsClassifier()\n",
    "random_search = RandomizedSearchCV(clf, param_distributions=param_dist,\n",
    "                                   n_iter=20)\n",
    "\n",
    "\n",
    "random_search.fit(X_train, y_train)\n",
    "random_search.best_params_"
   ]
  },
  {
   "cell_type": "code",
   "execution_count": null,
   "id": "2e0ab816",
   "metadata": {},
   "outputs": [],
   "source": [
    "knn_classification = KNeighborsClassifier(n_neighbors = 10)#default =minkowski,p=2,ie: enclidean distance\n",
    "knn_model = knn_classification.fit(X_train, y_train)\n",
    "y_pred_xtest=knn_model.predict(X_test)\n",
    "print(classification_report(y_test,y_pred_xtest))"
   ]
  },
  {
   "cell_type": "code",
   "execution_count": null,
   "id": "11da697f",
   "metadata": {
    "scrolled": true
   },
   "outputs": [],
   "source": [
    "ConfusionMatrixDisplay.from_predictions(y_test,y_pred_xtest, cmap='Reds')"
   ]
  },
  {
   "cell_type": "code",
   "execution_count": null,
   "id": "508a6caf",
   "metadata": {
    "scrolled": true
   },
   "outputs": [],
   "source": [
    "KNN_mul = multilabel_confusion_matrix(y_test, y_pred_xtest)\n",
    "KNN_mul"
   ]
  },
  {
   "cell_type": "code",
   "execution_count": null,
   "id": "84e2955b",
   "metadata": {},
   "outputs": [],
   "source": [
    "KNN_FN = KNN_mul[2][1][0]\n",
    "update_score_card(knn_model, KNN_FN, 'KNN model Tuned')"
   ]
  },
  {
   "cell_type": "code",
   "execution_count": null,
   "id": "d5f75102",
   "metadata": {
    "scrolled": true
   },
   "outputs": [],
   "source": [
    "cohen_kappa_score(y_test, y_pred_xtest)"
   ]
  },
  {
   "cell_type": "code",
   "execution_count": null,
   "id": "f8cc530e",
   "metadata": {},
   "outputs": [],
   "source": [
    "KNN_visualizer = ROCAUC(knn_model)\n",
    "\n",
    "KNN_visualizer.fit(X_train, y_train)        # Fit the training data to the visualizer\n",
    "KNN_visualizer.score(X_test, y_test)        # Evaluate the model on the test data\n",
    "KNN_visualizer.show()   "
   ]
  },
  {
   "cell_type": "code",
   "execution_count": null,
   "id": "1e263a01",
   "metadata": {},
   "outputs": [],
   "source": [
    "gnb = GaussianNB()\n",
    "gnb_model = gnb.fit(X_train, y_train)\n",
    "y_pred_xtest=gnb_model.predict(X_test)\n",
    "print(classification_report(y_test,y_pred_xtest))"
   ]
  },
  {
   "cell_type": "code",
   "execution_count": null,
   "id": "81a6e739",
   "metadata": {
    "scrolled": true
   },
   "outputs": [],
   "source": [
    "ConfusionMatrixDisplay.from_predictions(y_test,y_pred_xtest, cmap='Reds')"
   ]
  },
  {
   "cell_type": "code",
   "execution_count": null,
   "id": "d0403f22",
   "metadata": {
    "scrolled": true
   },
   "outputs": [],
   "source": [
    "GNB_mul = multilabel_confusion_matrix(y_test, y_pred_xtest)\n",
    "GNB_mul"
   ]
  },
  {
   "cell_type": "code",
   "execution_count": null,
   "id": "bc9227e8",
   "metadata": {},
   "outputs": [],
   "source": [
    "GNB_FN = GNB_mul[2][1][0]\n",
    "update_score_card(gnb_model, GNB_FN, 'Gaussian NB')"
   ]
  },
  {
   "cell_type": "code",
   "execution_count": null,
   "id": "5871774f",
   "metadata": {
    "scrolled": true
   },
   "outputs": [],
   "source": [
    "cohen_kappa_score(y_test, y_pred_xtest)"
   ]
  },
  {
   "cell_type": "code",
   "execution_count": null,
   "id": "0eb3d811",
   "metadata": {},
   "outputs": [],
   "source": [
    "GNB_visualizer = ROCAUC(gnb_model)\n",
    "\n",
    "GNB_visualizer.fit(X_train, y_train)        # Fit the training data to the visualizer\n",
    "GNB_visualizer.score(X_test, y_test)        # Evaluate the model on the test data\n",
    "GNB_visualizer.show()   "
   ]
  },
  {
   "cell_type": "raw",
   "id": "a51c0bf0",
   "metadata": {},
   "source": [
    "param_dist = {\"n_estimators\" : [90,100,110,120,130,140,150,200,250],\n",
    "             'learning_rate' : [1.0,0.1,0.01,0.001,0.0001]}\n",
    "\n",
    "# run randomized search\n",
    "clf = AdaBoostClassifier()\n",
    "random_search = RandomizedSearchCV(clf, param_distributions=param_dist,\n",
    "                                   n_iter=20)\n",
    "\n",
    "\n",
    "random_search.fit(X_train, y_train)\n",
    "random_search.best_params_"
   ]
  },
  {
   "cell_type": "code",
   "execution_count": null,
   "id": "a427a7c9",
   "metadata": {},
   "outputs": [],
   "source": [
    "ada_model = AdaBoostClassifier(n_estimators = 110, random_state = 10, learning_rate=1.0)\n",
    "\n",
    "# fit the model using fit() on train data\n",
    "ada_model.fit(X_train, y_train)\n",
    "y_pred_xtest=ada_model.predict(X_test)\n",
    "print(classification_report(y_test,y_pred_xtest))"
   ]
  },
  {
   "cell_type": "code",
   "execution_count": null,
   "id": "a9dae97c",
   "metadata": {
    "scrolled": true
   },
   "outputs": [],
   "source": [
    "ConfusionMatrixDisplay.from_predictions(y_test,y_pred_xtest, cmap='Reds')"
   ]
  },
  {
   "cell_type": "code",
   "execution_count": null,
   "id": "04c1bee5",
   "metadata": {
    "scrolled": true
   },
   "outputs": [],
   "source": [
    "ADA_mul = multilabel_confusion_matrix(y_test, y_pred_xtest)\n",
    "ADA_mul"
   ]
  },
  {
   "cell_type": "code",
   "execution_count": null,
   "id": "b499f975",
   "metadata": {},
   "outputs": [],
   "source": [
    "ADA_FN = ADA_mul[2][1][0]\n",
    "update_score_card(ada_model, ADA_FN, 'ADA Boost')"
   ]
  },
  {
   "cell_type": "code",
   "execution_count": null,
   "id": "a8f4d3f7",
   "metadata": {
    "scrolled": true
   },
   "outputs": [],
   "source": [
    "cohen_kappa_score(y_test, y_pred_xtest)"
   ]
  },
  {
   "cell_type": "code",
   "execution_count": null,
   "id": "08ae9c48",
   "metadata": {},
   "outputs": [],
   "source": [
    "ADA_visualizer = ROCAUC(ada_model)\n",
    "\n",
    "ADA_visualizer.fit(X_train, y_train)        # Fit the training data to the visualizer\n",
    "ADA_visualizer.score(X_test, y_test)        # Evaluate the model on the test data\n",
    "ADA_visualizer.show()   "
   ]
  },
  {
   "cell_type": "code",
   "execution_count": null,
   "id": "418a46cf",
   "metadata": {},
   "outputs": [],
   "source": [
    "y_train.value_counts()"
   ]
  },
  {
   "cell_type": "code",
   "execution_count": null,
   "id": "8e0b4759",
   "metadata": {},
   "outputs": [],
   "source": [
    "# create a dataframe that stores the feature names and their importance\n",
    "# 'feature_importances_' returns the features based on the gini importance\n",
    "important_features = pd.DataFrame({'Features': X_train.columns, \n",
    "                                   'Importance': ada_model.feature_importances_})\n",
    "\n",
    "# sort the dataframe in the descending order according to the feature importance\n",
    "important_features = important_features.sort_values('Importance', ascending = False)\n",
    "\n",
    "# create a barplot to visualize the features based on their importance\n",
    "sns.barplot(x = 'Importance', y = 'Features', data = important_features)\n",
    "\n",
    "# add plot and axes labels\n",
    "# set text size using 'fontsize'\n",
    "plt.title('Feature Importance', fontsize = 15)\n",
    "plt.xlabel('Importance', fontsize = 15)\n",
    "plt.ylabel('Features', fontsize = 15)\n",
    "\n",
    "# display the plot\n",
    "plt.show()"
   ]
  },
  {
   "cell_type": "raw",
   "id": "3e68ac3d",
   "metadata": {},
   "source": [
    "n_estimators=[250,500,750]\n",
    "max_depth=[8,10,12]\n",
    "max_leaves=[2,4,6]\n",
    "parameter=dict(n_estimators=n_estimators,max_depth=max_depth,max_leaves=max_leaves)\n",
    "hyper_param=GridSearchCV(estimator=XGBClassifier(),param_grid=parameter,scoring='accuracy')"
   ]
  },
  {
   "cell_type": "code",
   "execution_count": null,
   "id": "c38bf215",
   "metadata": {},
   "outputs": [],
   "source": [
    "xgb_model = XGBClassifier(max_depth=10, max_leaves=2, n_estimators=250)\n",
    "\n",
    "# fit the model using fit() on train data\n",
    "y_train1=y_train.map({1:0,2:1,3:2})\n",
    "y_test1=y_test.map({1:0,2:1,3:2})\n",
    "xgb_model.fit(X_train, y_train1)\n",
    "y_pred_xtest=xgb_model.predict(X_test)\n",
    "print(classification_report(y_test1,y_pred_xtest))"
   ]
  },
  {
   "cell_type": "code",
   "execution_count": null,
   "id": "a3437f34",
   "metadata": {
    "scrolled": true
   },
   "outputs": [],
   "source": [
    "ConfusionMatrixDisplay.from_predictions(y_test1,y_pred_xtest, cmap='Reds')"
   ]
  },
  {
   "cell_type": "code",
   "execution_count": null,
   "id": "e4495980",
   "metadata": {
    "scrolled": true
   },
   "outputs": [],
   "source": [
    "XGB_mul = multilabel_confusion_matrix(y_test1, y_pred_xtest)\n",
    "XGB_mul"
   ]
  },
  {
   "cell_type": "code",
   "execution_count": null,
   "id": "323a8dea",
   "metadata": {},
   "outputs": [],
   "source": [
    "XGB_FN = XGB_mul[2][1][0]\n",
    "score_card = score_card.append({'Model': 'XGBoost',\n",
    "                                'Precision Score': precision_score(y_test1, y_pred_xtest, average='macro'),\n",
    "                                'Recall Score': recall_score(y_test1, y_pred_xtest, average='macro'),\n",
    "                                'False Negatives': XGB_FN,\n",
    "                                'Kappa Score': cohen_kappa_score(y_test1, y_pred_xtest),\n",
    "                                'f1-score': f1_score(y_test1, y_pred_xtest, average='macro')}, \n",
    "                                ignore_index = True)"
   ]
  },
  {
   "cell_type": "code",
   "execution_count": null,
   "id": "3f7d1dfb",
   "metadata": {
    "scrolled": true
   },
   "outputs": [],
   "source": [
    "cohen_kappa_score(y_test1, y_pred_xtest)"
   ]
  },
  {
   "cell_type": "code",
   "execution_count": null,
   "id": "30e921e3",
   "metadata": {},
   "outputs": [],
   "source": [
    "XGB_visualizer = ROCAUC(xgb_model)\n",
    "\n",
    "XGB_visualizer.fit(X_train, y_train1)        # Fit the training data to the visualizer\n",
    "XGB_visualizer.score(X_test, y_test1)        # Evaluate the model on the test data\n",
    "XGB_visualizer.show()   "
   ]
  },
  {
   "cell_type": "raw",
   "id": "5776819c",
   "metadata": {},
   "source": [
    "param_grid = {'C': [0.1, 1, 10, 100, 1000], \n",
    "              'gamma': [1, 0.1, 0.01, 0.001, 0.0001],\n",
    "              'kernel': ['rbf']} \n",
    "hyper_param_svm=GridSearchCV(estimator=svm.SVC(),param_grid=param_grid,scoring='accuracy')"
   ]
  },
  {
   "cell_type": "code",
   "execution_count": null,
   "id": "034f98f7",
   "metadata": {},
   "outputs": [],
   "source": [
    "svc_model=svm.SVC(C=100,gamma=0.0001, kernel='rbf').fit(X_train,y_train)\n",
    "y_pred_xtest=svc_model.predict(X_test)\n",
    "print(classification_report(y_test,y_pred_xtest))"
   ]
  },
  {
   "cell_type": "code",
   "execution_count": null,
   "id": "3b3e04fe",
   "metadata": {
    "scrolled": true
   },
   "outputs": [],
   "source": [
    "ConfusionMatrixDisplay.from_predictions(y_test,y_pred_xtest, cmap='Reds')"
   ]
  },
  {
   "cell_type": "code",
   "execution_count": null,
   "id": "6ef34ae7",
   "metadata": {
    "scrolled": true
   },
   "outputs": [],
   "source": [
    "SVC_mul = multilabel_confusion_matrix(y_test, y_pred_xtest)\n",
    "SVC_mul"
   ]
  },
  {
   "cell_type": "code",
   "execution_count": null,
   "id": "138c6988",
   "metadata": {},
   "outputs": [],
   "source": [
    "SVC_FN = SVC_mul[2][1][0]\n",
    "update_score_card(svc_model, SVC_FN, 'SVC')"
   ]
  },
  {
   "cell_type": "code",
   "execution_count": null,
   "id": "db0dc33c",
   "metadata": {
    "scrolled": true
   },
   "outputs": [],
   "source": [
    "cohen_kappa_score(y_test, y_pred_xtest)"
   ]
  },
  {
   "cell_type": "code",
   "execution_count": null,
   "id": "72957a8a",
   "metadata": {},
   "outputs": [],
   "source": [
    "SVC_visualizer = ROCAUC(svc_model)\n",
    "\n",
    "SVC_visualizer.fit(X_train, y_train)        # Fit the training data to the visualizer\n",
    "SVC_visualizer.score(X_test, y_test)        # Evaluate the model on the test data\n",
    "SVC_visualizer.show()   "
   ]
  },
  {
   "cell_type": "markdown",
   "id": "2cadb725",
   "metadata": {},
   "source": [
    "# SMOTE"
   ]
  },
  {
   "cell_type": "code",
   "execution_count": null,
   "id": "b52f0539",
   "metadata": {},
   "outputs": [],
   "source": [
    "y=df[['churn_risk_score']].astype(dtype='int')\n",
    "y.value_counts()"
   ]
  },
  {
   "cell_type": "code",
   "execution_count": null,
   "id": "e3c39505",
   "metadata": {},
   "outputs": [],
   "source": [
    "df1=df.select_dtypes(include=np.number)\n",
    "X = pd.concat([df1,df_cat],axis=1)\n",
    "X.drop('churn_risk_score',axis=1,inplace=True)\n",
    "X.head()"
   ]
  },
  {
   "cell_type": "code",
   "execution_count": null,
   "id": "fc7418bc",
   "metadata": {},
   "outputs": [],
   "source": [
    "print('Class distribution BEFORE')\n",
    "print(y.value_counts().sort_index())\n",
    "\n",
    "ovr_sample = SMOTE(k_neighbors = 5, random_state=100)\n",
    "X_new, y_new = ovr_sample.fit_resample(X, y)\n",
    "print('\\nClass distribution AFTER')\n",
    "print(y_new.value_counts().sort_index())\n",
    "df_new = pd.concat([X_new,y_new],axis=1)"
   ]
  },
  {
   "cell_type": "raw",
   "id": "0e5bf109",
   "metadata": {},
   "source": [
    "df1=X_new.select_dtypes(include=np.number)\n",
    "ss=StandardScaler()\n",
    "df_s=ss.fit_transform(df1)\n",
    "df_s=pd.DataFrame(df_s,columns=df1.columns,index=df1.index)\n",
    "df_s.head()"
   ]
  },
  {
   "cell_type": "code",
   "execution_count": null,
   "id": "c0cc47a2",
   "metadata": {},
   "outputs": [],
   "source": [
    "X_new.skew()"
   ]
  },
  {
   "cell_type": "code",
   "execution_count": null,
   "id": "8dafd436",
   "metadata": {},
   "outputs": [],
   "source": [
    "X_new.shape"
   ]
  },
  {
   "cell_type": "code",
   "execution_count": null,
   "id": "b9805594",
   "metadata": {},
   "outputs": [],
   "source": [
    "X_new.isnull().sum()"
   ]
  },
  {
   "cell_type": "raw",
   "id": "4f86dd6f",
   "metadata": {},
   "source": [
    "df_cat = X_new.select_dtypes(include=[np.object])\n",
    "for i in df_cat.columns:\n",
    "    df_cat[i]=LabelEncoder().fit_transform(df_cat[i])\n",
    "df_cat.head()"
   ]
  },
  {
   "cell_type": "raw",
   "id": "f7d6030e",
   "metadata": {},
   "source": [
    "df2=pd.concat([df_s,df_cat],axis=1)\n",
    "df2.head()"
   ]
  },
  {
   "cell_type": "code",
   "execution_count": null,
   "id": "18ecf503",
   "metadata": {},
   "outputs": [],
   "source": [
    "x=X_new\n",
    "y=y_new"
   ]
  },
  {
   "cell_type": "code",
   "execution_count": null,
   "id": "0474c828",
   "metadata": {},
   "outputs": [],
   "source": [
    "X_train, X_test, y_train, y_test = train_test_split(x, y, test_size = 0.20, random_state = 5, stratify=y)\n",
    "print(X_train.shape)\n",
    "print(X_test.shape)\n",
    "print(y_train.shape)\n",
    "print(y_test.shape)"
   ]
  },
  {
   "cell_type": "markdown",
   "id": "e7a30c61",
   "metadata": {},
   "source": [
    "# Random Forest AFTER SMOTE"
   ]
  },
  {
   "cell_type": "code",
   "execution_count": null,
   "id": "de8d15fa",
   "metadata": {},
   "outputs": [],
   "source": [
    "rf_classification = RandomForestClassifier(n_estimators = 30, random_state = 10,max_depth=10,max_features=7,min_samples_split=10,min_samples_leaf= 7,criterion = 'gini', bootstrap = True)\n",
    "\n",
    "# use fit() to fit the model on the train set\n",
    "smote_rf_model = rf_classification.fit(X_train, y_train)\n",
    "y_pred_xtest=smote_rf_model.predict(X_test)\n",
    "# print the performance measures\n",
    "print(classification_report(y_test,y_pred_xtest))"
   ]
  },
  {
   "cell_type": "code",
   "execution_count": null,
   "id": "cb1a0c9a",
   "metadata": {},
   "outputs": [],
   "source": [
    "ConfusionMatrixDisplay.from_predictions(y_test,y_pred_xtest, cmap='Reds')"
   ]
  },
  {
   "cell_type": "code",
   "execution_count": null,
   "id": "1f3f1910",
   "metadata": {},
   "outputs": [],
   "source": [
    "SMOTE_mul = multilabel_confusion_matrix(y_test, y_pred_xtest)"
   ]
  },
  {
   "cell_type": "code",
   "execution_count": null,
   "id": "0e87bfe3",
   "metadata": {},
   "outputs": [],
   "source": [
    "SMOTE_FN = SMOTE_mul[2][1][0]\n",
    "update_score_card(smote_rf_model, SMOTE_FN, 'Random Forest After SMOTE')"
   ]
  },
  {
   "cell_type": "code",
   "execution_count": null,
   "id": "629b2f78",
   "metadata": {},
   "outputs": [],
   "source": [
    "cohen_kappa_score(y_test, y_pred_xtest)"
   ]
  },
  {
   "cell_type": "code",
   "execution_count": null,
   "id": "0f34e067",
   "metadata": {},
   "outputs": [],
   "source": [
    "SMT_visualizer = ROCAUC(smote_rf_model)\n",
    "\n",
    "SMT_visualizer.fit(X_train, y_train)        # Fit the training data to the visualizer\n",
    "SMT_visualizer.score(X_test, y_test)        # Evaluate the model on the test data\n",
    "SMT_visualizer.show()   "
   ]
  },
  {
   "cell_type": "code",
   "execution_count": null,
   "id": "710d1379",
   "metadata": {},
   "outputs": [],
   "source": [
    "\n",
    "fig = plt.figure(figsize=(15,10))\n",
    "\n",
    "plt.plot(LR_visualizer.fpr['macro'], LR_visualizer.tpr['macro'], 'b', label ='LinearRegression_AUC :{}'.format(round(LR_visualizer.roc_auc['macro'],2)))\n",
    "plt.plot(DTT_visualizer.fpr['macro'], DTT_visualizer.tpr['macro'], 'r', label ='Decision_Tree_Tuned_AUC :{}'.format(round(DTT_visualizer.roc_auc['macro'],2)))\n",
    "plt.plot(RF_visualizer.fpr['macro'], RF_visualizer.tpr['macro'], 'grey', label='Random_Forest_AUC :{}'.format(round(RF_visualizer.roc_auc['macro'],2)))\n",
    "plt.plot(KNN_visualizer.fpr['macro'], KNN_visualizer.tpr['macro'], 'm', label='K_Nearest_Neighbors_AUC :{}'.format(round(KNN_visualizer.roc_auc['macro'],2)))\n",
    "plt.plot(GNB_visualizer.fpr['macro'], GNB_visualizer.tpr['macro'], 'y', label='Gaussian_NB_AUC :{}'.format(round(GNB_visualizer.roc_auc['macro'],2)))\n",
    "plt.plot(ADA_visualizer.fpr['macro'], ADA_visualizer.tpr['macro'], 'k', label='Ada_Boost_AUC :{}'.format(round(ADA_visualizer.roc_auc['macro'],2)))\n",
    "plt.plot(XGB_visualizer.fpr['macro'], XGB_visualizer.tpr['macro'], 'brown', label='XGBoost_AUC :{}'.format(round(XGB_visualizer.roc_auc['macro'],2)))\n",
    "plt.plot(SVC_visualizer.fpr['macro'], SVC_visualizer.tpr['macro'], 'cyan', label='SVC_AUC :{}'.format(round(SVC_visualizer.roc_auc['macro'],2)))\n",
    "\n",
    "plt.plot([0,1], [0,1], color='orange', linestyle='--')\n",
    "\n",
    "plt.xlim([0.0, 1.0])\n",
    "plt.ylim([0.0, 1.05])\n",
    "\n",
    "\n",
    "plt.title('ROC Curve Analysis', fontweight='bold', fontsize=15)\n",
    "\n",
    "plt.legend()\n",
    "plt.show()"
   ]
  },
  {
   "cell_type": "code",
   "execution_count": null,
   "id": "a7f82430",
   "metadata": {},
   "outputs": [],
   "source": [
    "score_card.sort_values('False Negatives', ascending=False)"
   ]
  },
  {
   "cell_type": "raw",
   "id": "ee9b60f7",
   "metadata": {},
   "source": [
    "Summary:\n",
    "    From the above models, we could see that the AdaBoost over Decision Tree is holding a very good Precision score, Recall Score, Kappa score, f1-score and very less number of False Negative values for the churn risk class of 3.\n",
    "    Since, our business involves False Negative values to be costly for our class 3 churn segment, We feel it is important to lower the False Negative of class 3 segement.\n",
    "    Since, XGBoost is having ideal scores, it is practically impossible to have those scores, Hence we choose Adaboost as our final model."
   ]
  }
 ],
 "metadata": {
  "kernelspec": {
   "display_name": "Python 3 (ipykernel)",
   "language": "python",
   "name": "python3"
  },
  "language_info": {
   "codemirror_mode": {
    "name": "ipython",
    "version": 3
   },
   "file_extension": ".py",
   "mimetype": "text/x-python",
   "name": "python",
   "nbconvert_exporter": "python",
   "pygments_lexer": "ipython3",
   "version": "3.9.7"
  }
 },
 "nbformat": 4,
 "nbformat_minor": 5
}
